{
 "cells": [
  {
   "cell_type": "code",
   "execution_count": 1,
   "metadata": {},
   "outputs": [],
   "source": [
    "import pandas as pd\n",
    "import os\n",
    "import numpy as np\n",
    "import matplotlib.pyplot as plt\n",
    "import seaborn as sns\n",
    "import operator\n",
    "import sys\n",
    "%matplotlib inline"
   ]
  },
  {
   "cell_type": "code",
   "execution_count": 2,
   "metadata": {},
   "outputs": [],
   "source": [
    "plt.rcParams[\"font.family\"] = 'NanumGothic'"
   ]
  },
  {
   "cell_type": "code",
   "execution_count": 3,
   "metadata": {},
   "outputs": [],
   "source": [
    "df = pd.read_csv('../input/funda_train.csv')"
   ]
  },
  {
   "cell_type": "code",
   "execution_count": 4,
   "metadata": {},
   "outputs": [
    {
     "data": {
      "text/html": [
       "<div>\n",
       "<style scoped>\n",
       "    .dataframe tbody tr th:only-of-type {\n",
       "        vertical-align: middle;\n",
       "    }\n",
       "\n",
       "    .dataframe tbody tr th {\n",
       "        vertical-align: top;\n",
       "    }\n",
       "\n",
       "    .dataframe thead th {\n",
       "        text-align: right;\n",
       "    }\n",
       "</style>\n",
       "<table border=\"1\" class=\"dataframe\">\n",
       "  <thead>\n",
       "    <tr style=\"text-align: right;\">\n",
       "      <th></th>\n",
       "      <th>store_id</th>\n",
       "      <th>card_id</th>\n",
       "      <th>card_company</th>\n",
       "      <th>transacted_date</th>\n",
       "      <th>transacted_time</th>\n",
       "      <th>installment_term</th>\n",
       "      <th>region</th>\n",
       "      <th>type_of_business</th>\n",
       "      <th>amount</th>\n",
       "    </tr>\n",
       "  </thead>\n",
       "  <tbody>\n",
       "    <tr>\n",
       "      <th>0</th>\n",
       "      <td>0</td>\n",
       "      <td>0</td>\n",
       "      <td>b</td>\n",
       "      <td>2016-06-01</td>\n",
       "      <td>13:13</td>\n",
       "      <td>0</td>\n",
       "      <td>NaN</td>\n",
       "      <td>기타 미용업</td>\n",
       "      <td>1857.142857</td>\n",
       "    </tr>\n",
       "    <tr>\n",
       "      <th>1</th>\n",
       "      <td>0</td>\n",
       "      <td>1</td>\n",
       "      <td>h</td>\n",
       "      <td>2016-06-01</td>\n",
       "      <td>18:12</td>\n",
       "      <td>0</td>\n",
       "      <td>NaN</td>\n",
       "      <td>기타 미용업</td>\n",
       "      <td>857.142857</td>\n",
       "    </tr>\n",
       "    <tr>\n",
       "      <th>2</th>\n",
       "      <td>0</td>\n",
       "      <td>2</td>\n",
       "      <td>c</td>\n",
       "      <td>2016-06-01</td>\n",
       "      <td>18:52</td>\n",
       "      <td>0</td>\n",
       "      <td>NaN</td>\n",
       "      <td>기타 미용업</td>\n",
       "      <td>2000.000000</td>\n",
       "    </tr>\n",
       "    <tr>\n",
       "      <th>3</th>\n",
       "      <td>0</td>\n",
       "      <td>3</td>\n",
       "      <td>a</td>\n",
       "      <td>2016-06-01</td>\n",
       "      <td>20:22</td>\n",
       "      <td>0</td>\n",
       "      <td>NaN</td>\n",
       "      <td>기타 미용업</td>\n",
       "      <td>7857.142857</td>\n",
       "    </tr>\n",
       "    <tr>\n",
       "      <th>4</th>\n",
       "      <td>0</td>\n",
       "      <td>4</td>\n",
       "      <td>c</td>\n",
       "      <td>2016-06-02</td>\n",
       "      <td>11:06</td>\n",
       "      <td>0</td>\n",
       "      <td>NaN</td>\n",
       "      <td>기타 미용업</td>\n",
       "      <td>2000.000000</td>\n",
       "    </tr>\n",
       "  </tbody>\n",
       "</table>\n",
       "</div>"
      ],
      "text/plain": [
       "   store_id  card_id card_company transacted_date transacted_time  \\\n",
       "0         0        0            b      2016-06-01           13:13   \n",
       "1         0        1            h      2016-06-01           18:12   \n",
       "2         0        2            c      2016-06-01           18:52   \n",
       "3         0        3            a      2016-06-01           20:22   \n",
       "4         0        4            c      2016-06-02           11:06   \n",
       "\n",
       "   installment_term region type_of_business       amount  \n",
       "0                 0    NaN           기타 미용업  1857.142857  \n",
       "1                 0    NaN           기타 미용업   857.142857  \n",
       "2                 0    NaN           기타 미용업  2000.000000  \n",
       "3                 0    NaN           기타 미용업  7857.142857  \n",
       "4                 0    NaN           기타 미용업  2000.000000  "
      ]
     },
     "execution_count": 4,
     "metadata": {},
     "output_type": "execute_result"
    }
   ],
   "source": [
    "df.head(5)"
   ]
  },
  {
   "cell_type": "code",
   "execution_count": 5,
   "metadata": {},
   "outputs": [],
   "source": [
    "df['store_id'] = df['store_id'].astype(np.int16)\n",
    "df['installment_term'] = df['installment_term'].astype(np.int16)"
   ]
  },
  {
   "cell_type": "code",
   "execution_count": 6,
   "metadata": {},
   "outputs": [],
   "source": [
    "def split_data(x, idx, seg):\n",
    "    if type(x) is str:\n",
    "        return x.split(seg)[idx]\n",
    "    return None"
   ]
  },
  {
   "cell_type": "markdown",
   "metadata": {},
   "source": [
    "## transacted_year"
   ]
  },
  {
   "cell_type": "code",
   "execution_count": 7,
   "metadata": {},
   "outputs": [],
   "source": [
    "df['transacted_year'] = df['transacted_date'].apply(split_data, args=[0, '-'])\n",
    "df['transacted_month'] = df['transacted_date'].apply(split_data, args=[1, '-'])"
   ]
  },
  {
   "cell_type": "code",
   "execution_count": 8,
   "metadata": {},
   "outputs": [],
   "source": [
    "df['transacted_hour'] = df['transacted_time'].apply(split_data, args=[0, ':'])\n",
    "df['transacted_hour'] = df['transacted_hour'].astype(np.int16)"
   ]
  },
  {
   "cell_type": "markdown",
   "metadata": {},
   "source": [
    "## type_of_business"
   ]
  },
  {
   "cell_type": "code",
   "execution_count": 9,
   "metadata": {},
   "outputs": [],
   "source": [
    "df['type_big'] = df['type_of_business'].apply(split_data, args=[-1, ' '])"
   ]
  },
  {
   "cell_type": "markdown",
   "metadata": {},
   "source": [
    "## region"
   ]
  },
  {
   "cell_type": "code",
   "execution_count": 10,
   "metadata": {},
   "outputs": [],
   "source": [
    "def check_store_region(store_id):\n",
    "    #해당 가게 데이터를 가져온다\n",
    "    store = df[df['store_id']==store_id][['region', 'card_id']]\n",
    "    region_dict = {}\n",
    "    #지역이 None이면\n",
    "    if sum(store['region'].isnull()):\n",
    "        #해당 가게에서 사용되 card_id를 확인\n",
    "        store_card_id = store['card_id'].unique()\n",
    "        #각 card_id에서\n",
    "        for card_id in store_card_id:\n",
    "            #해당 card_id가 사용된 지역들을 찾는다.\n",
    "            regions = df[df['card_id']==card_id]['region'].unique()\n",
    "            #각 지역을 region_dict에 추가한다\n",
    "            for region in regions:\n",
    "                if region not in region_dict:\n",
    "                    region_dict[region] = 1\n",
    "                else:\n",
    "                    region_dict[region] += 1\n",
    "    region_dict.pop(np.nan, None)\n",
    "    return region_dict"
   ]
  },
  {
   "cell_type": "code",
   "execution_count": 11,
   "metadata": {},
   "outputs": [],
   "source": [
    "#같은 값을 가지는 값이 있을 수 있다.\n",
    "#대도시를 중심으로 대도시의 수에 따라 각 값에 가중치를 더한다.\n",
    "#부산 금정구:1, 부산 동래구:1, 서울 용인구:1 -> 부산 금정구:1+2, 부산 동래구:1+2, 서울 용인구:1+1\n",
    "def add_weight_by_region(region_dict):\n",
    "    weight = {}\n",
    "    for key in region_dict.keys():\n",
    "        key = key.split(' ')[0]\n",
    "        weight[key] = 1 + weight.get(key, 0)\n",
    "    for key in region_dict.keys():\n",
    "        region_dict[key] += weight[key.split(' ')[0]]\n",
    "    return region_dict"
   ]
  },
  {
   "cell_type": "code",
   "execution_count": 12,
   "metadata": {
    "scrolled": true
   },
   "outputs": [],
   "source": [
    "def find_region(store_id):\n",
    "    #해당 매장에서 결제된 고객들의 카드가 사용된 지역\n",
    "    region_dict = check_store_region(store_id)\n",
    "    #지역이 존재하면\n",
    "    if len(region_dict)>0:\n",
    "        #대도시 기준 가중치 부여\n",
    "        region_dict = add_weight_by_region(region_dict)\n",
    "        #지역과 최대값을 찾는다\n",
    "        max_region = max(region_dict.items(), key=operator.itemgetter(1))\n",
    "        #같은 값을 가지는 오차가 존재 할 가능성이 있으나, 앞의 가중치 부여로 어느정도 보정을 하였기 때문에\n",
    "        #따로 수정하지는 않는다.\n",
    "        return max_region[0]\n",
    "    return np.nan"
   ]
  },
  {
   "cell_type": "code",
   "execution_count": 13,
   "metadata": {},
   "outputs": [
    {
     "data": {
      "text/plain": [
       "(1277, 1967)"
      ]
     },
     "execution_count": 13,
     "metadata": {},
     "output_type": "execute_result"
    }
   ],
   "source": [
    "len(df[~df['region'].isnull()]['store_id'].unique()), len(df['store_id'].unique())\n",
    "#총 1967 데이터 중 1277개 데이터가 비어있다."
   ]
  },
  {
   "cell_type": "code",
   "execution_count": 14,
   "metadata": {},
   "outputs": [
    {
     "name": "stdout",
     "output_type": "stream",
     "text": [
      "[*]99.85507246376811% completeddd\r"
     ]
    }
   ],
   "source": [
    "region_null_stores = df[df['region'].isnull()]['store_id'].unique()\n",
    "for step, store_id in enumerate(region_null_stores):\n",
    "    val = find_region(store_id)\n",
    "    df.loc[df['store_id'] == store_id, 'region'] = val\n",
    "    print(\"[*]{:>6}% completed\".format((100*step/len(region_null_stores))), end=\"\\r\", flush=True)"
   ]
  },
  {
   "cell_type": "code",
   "execution_count": 15,
   "metadata": {},
   "outputs": [
    {
     "data": {
      "text/plain": [
       "store_id                  0\n",
       "card_id                   0\n",
       "card_company              0\n",
       "transacted_date           0\n",
       "transacted_time           0\n",
       "installment_term          0\n",
       "region                 8321\n",
       "type_of_business    3952609\n",
       "amount                    0\n",
       "transacted_year           0\n",
       "transacted_month          0\n",
       "transacted_hour           0\n",
       "type_big            3952609\n",
       "dtype: int64"
      ]
     },
     "execution_count": 15,
     "metadata": {},
     "output_type": "execute_result"
    }
   ],
   "source": [
    "df.isnull().sum()"
   ]
  },
  {
   "cell_type": "code",
   "execution_count": 16,
   "metadata": {},
   "outputs": [
    {
     "name": "stdout",
     "output_type": "stream",
     "text": [
      ">>store_id : 95\n",
      "!!95 - 234158 - [  95 1185]\n",
      "!!95 - 234267 - [  95 1513]\n",
      ">>store_id : 125\n",
      "!!125 - 297417 - [ 125 1950]\n",
      "!!125 - 297500 - [125 557]\n",
      ">>store_id : 314\n",
      ">>store_id : 481\n",
      ">>store_id : 564\n",
      ">>store_id : 952\n",
      ">>store_id : 1351\n",
      ">>store_id : 1365\n"
     ]
    }
   ],
   "source": [
    "#데이터를 순회하며 지역의 결측값을 채울 때, 데이터가 부족하면 None으로 채워진다.\n",
    "#이럴 경우, 해당 가게에서 사용된 card_id가 다른 매장에서 사용된 경우가 없는 경우이다.\n",
    "#이를 확인하는 코드.\n",
    "for store_id in df[df['region'].isnull()].store_id.unique():\n",
    "    print('>>store_id : {}'.format(store_id))\n",
    "    card_id_list = df[df['store_id']==store_id]['card_id'].unique()\n",
    "    for card_id in card_id_list:\n",
    "        unique_store_id = df[df['card_id']==card_id]['store_id'].unique()\n",
    "        if len(unique_store_id) is not 1:\n",
    "            print('!!{} - {} - {}'.format(store_id, card_id, unique_store_id))"
   ]
  },
  {
   "cell_type": "code",
   "execution_count": 17,
   "metadata": {},
   "outputs": [
    {
     "name": "stdout",
     "output_type": "stream",
     "text": [
      "[*]8.8e+01 % completed\r"
     ]
    }
   ],
   "source": [
    "#새로 채워넣은 데이터를 바탕으로 한번 더 region의 결측값을 채운다\n",
    "region_null_stores_2nd = df[df['region'].isnull()]['store_id'].unique()\n",
    "for step, store_id in enumerate(region_null_stores_2nd):\n",
    "    val = find_region(store_id)\n",
    "    df.loc[df['store_id'] == store_id, 'region'] = val\n",
    "    print(\"[*]{:.2} % completed\".format(100*step/len(region_null_stores_2nd)), end=\"\\r\", flush=True)"
   ]
  },
  {
   "cell_type": "code",
   "execution_count": 18,
   "metadata": {},
   "outputs": [
    {
     "name": "stdout",
     "output_type": "stream",
     "text": [
      ">>store_id : 314\n",
      ">>store_id : 481\n",
      ">>store_id : 564\n",
      ">>store_id : 952\n",
      ">>store_id : 1351\n",
      ">>store_id : 1365\n"
     ]
    }
   ],
   "source": [
    "#여기서 나오는 store_id에서 사용된 card_id는 다른 곳에서 사용된 기록이 없다.\n",
    "#이 특징들을 살펴보자.\n",
    "for store_id in df[df['region'].isnull()].store_id.unique():\n",
    "    print('>>store_id : {}'.format(store_id))\n",
    "    card_id_list = df[df['store_id']==store_id]['card_id'].unique()\n",
    "    for card_id in card_id_list:\n",
    "        unique_store_id = df[df['card_id']==card_id]['store_id'].unique()\n",
    "        if len(unique_store_id) is not 1:\n",
    "            print('!!{} - {} - {}'.format(store_id, card_id, unique_store_id))"
   ]
  },
  {
   "cell_type": "code",
   "execution_count": 19,
   "metadata": {},
   "outputs": [
    {
     "data": {
      "text/plain": [
       "store_id                  0\n",
       "card_id                   0\n",
       "card_company              0\n",
       "transacted_date           0\n",
       "transacted_time           0\n",
       "installment_term          0\n",
       "region                 6433\n",
       "type_of_business    3952609\n",
       "amount                    0\n",
       "transacted_year           0\n",
       "transacted_month          0\n",
       "transacted_hour           0\n",
       "type_big            3952609\n",
       "dtype: int64"
      ]
     },
     "execution_count": 19,
     "metadata": {},
     "output_type": "execute_result"
    }
   ],
   "source": [
    "df.isnull().sum()"
   ]
  },
  {
   "cell_type": "code",
   "execution_count": null,
   "metadata": {},
   "outputs": [],
   "source": []
  },
  {
   "cell_type": "code",
   "execution_count": 20,
   "metadata": {},
   "outputs": [
    {
     "data": {
      "text/html": [
       "<div>\n",
       "<style scoped>\n",
       "    .dataframe tbody tr th:only-of-type {\n",
       "        vertical-align: middle;\n",
       "    }\n",
       "\n",
       "    .dataframe tbody tr th {\n",
       "        vertical-align: top;\n",
       "    }\n",
       "\n",
       "    .dataframe thead th {\n",
       "        text-align: right;\n",
       "    }\n",
       "</style>\n",
       "<table border=\"1\" class=\"dataframe\">\n",
       "  <thead>\n",
       "    <tr style=\"text-align: right;\">\n",
       "      <th></th>\n",
       "      <th>region</th>\n",
       "      <th>type_of_business</th>\n",
       "    </tr>\n",
       "    <tr>\n",
       "      <th>store_id</th>\n",
       "      <th></th>\n",
       "      <th></th>\n",
       "    </tr>\n",
       "  </thead>\n",
       "  <tbody>\n",
       "    <tr>\n",
       "      <th>314</th>\n",
       "      <td>0</td>\n",
       "      <td>0</td>\n",
       "    </tr>\n",
       "    <tr>\n",
       "      <th>481</th>\n",
       "      <td>0</td>\n",
       "      <td>0</td>\n",
       "    </tr>\n",
       "    <tr>\n",
       "      <th>564</th>\n",
       "      <td>0</td>\n",
       "      <td>0</td>\n",
       "    </tr>\n",
       "    <tr>\n",
       "      <th>952</th>\n",
       "      <td>0</td>\n",
       "      <td>0</td>\n",
       "    </tr>\n",
       "    <tr>\n",
       "      <th>1351</th>\n",
       "      <td>0</td>\n",
       "      <td>0</td>\n",
       "    </tr>\n",
       "    <tr>\n",
       "      <th>1365</th>\n",
       "      <td>0</td>\n",
       "      <td>0</td>\n",
       "    </tr>\n",
       "  </tbody>\n",
       "</table>\n",
       "</div>"
      ],
      "text/plain": [
       "          region  type_of_business\n",
       "store_id                          \n",
       "314            0                 0\n",
       "481            0                 0\n",
       "564            0                 0\n",
       "952            0                 0\n",
       "1351           0                 0\n",
       "1365           0                 0"
      ]
     },
     "execution_count": 20,
     "metadata": {},
     "output_type": "execute_result"
    }
   ],
   "source": [
    "#해당 데이터는 region, type_of_business가 모두 결측값\n",
    "df[df['store_id'].isin(df[df['region'].isnull()].store_id.unique())].groupby(['store_id']).agg({'region':'count','type_of_business':'count'})"
   ]
  },
  {
   "cell_type": "code",
   "execution_count": 21,
   "metadata": {},
   "outputs": [],
   "source": [
    "df['region'] = df['region'].fillna('기타 기타')"
   ]
  },
  {
   "cell_type": "code",
   "execution_count": 22,
   "metadata": {},
   "outputs": [],
   "source": [
    "df['region_big'] = df['region'].apply(split_data, args=[0, ' '])\n",
    "df['region_detail'] = df['region'].apply(split_data, args=[1, ' '])"
   ]
  },
  {
   "cell_type": "code",
   "execution_count": 23,
   "metadata": {},
   "outputs": [
    {
     "data": {
      "text/plain": [
       "store_id                  0\n",
       "card_id                   0\n",
       "card_company              0\n",
       "transacted_date           0\n",
       "transacted_time           0\n",
       "installment_term          0\n",
       "region                    0\n",
       "type_of_business    3952609\n",
       "amount                    0\n",
       "transacted_year           0\n",
       "transacted_month          0\n",
       "transacted_hour           0\n",
       "type_big            3952609\n",
       "region_big                0\n",
       "region_detail             0\n",
       "dtype: int64"
      ]
     },
     "execution_count": 23,
     "metadata": {},
     "output_type": "execute_result"
    }
   ],
   "source": [
    "df.isnull().sum()"
   ]
  },
  {
   "cell_type": "code",
   "execution_count": 24,
   "metadata": {},
   "outputs": [],
   "source": [
    "df.to_csv('df_fixed.csv')"
   ]
  },
  {
   "cell_type": "code",
   "execution_count": 25,
   "metadata": {},
   "outputs": [
    {
     "name": "stdout",
     "output_type": "stream",
     "text": [
      "finish\n"
     ]
    }
   ],
   "source": [
    "print('finish')"
   ]
  },
  {
   "cell_type": "code",
   "execution_count": null,
   "metadata": {},
   "outputs": [],
   "source": []
  }
 ],
 "metadata": {
  "kernelspec": {
   "display_name": "Python 3",
   "language": "python",
   "name": "python3"
  },
  "language_info": {
   "codemirror_mode": {
    "name": "ipython",
    "version": 3
   },
   "file_extension": ".py",
   "mimetype": "text/x-python",
   "name": "python",
   "nbconvert_exporter": "python",
   "pygments_lexer": "ipython3",
   "version": "3.5.2"
  }
 },
 "nbformat": 4,
 "nbformat_minor": 2
}
