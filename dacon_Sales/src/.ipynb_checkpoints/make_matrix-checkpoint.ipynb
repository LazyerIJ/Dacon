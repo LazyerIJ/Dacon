{
 "cells": [
  {
   "cell_type": "code",
   "execution_count": 1,
   "metadata": {},
   "outputs": [],
   "source": [
    "import pandas as pd\n",
    "import matplotlib.pyplot as plt\n",
    "import seaborn as sns\n",
    "import time\n",
    "import numpy as np\n",
    "from itertools import product\n",
    "import warnings"
   ]
  },
  {
   "cell_type": "code",
   "execution_count": 2,
   "metadata": {},
   "outputs": [],
   "source": [
    "warnings.filterwarnings('ignore')\n",
    "plt.rcParams[\"font.family\"] = 'NanumGothic'"
   ]
  },
  {
   "cell_type": "code",
   "execution_count": 3,
   "metadata": {},
   "outputs": [],
   "source": [
    "df = pd.read_csv('df_fixed.csv')\n",
    "df = df.drop(['Unnamed: 0', 'transacted_date', 'transacted_time', 'region', 'type_of_business'], axis=1)"
   ]
  },
  {
   "cell_type": "code",
   "execution_count": 4,
   "metadata": {},
   "outputs": [
    {
     "data": {
      "text/plain": [
       "store_id                  0\n",
       "card_id                   0\n",
       "card_company              0\n",
       "installment_term          0\n",
       "amount                    0\n",
       "transacted_year           0\n",
       "transacted_month          0\n",
       "transacted_hour           0\n",
       "type_big            3946176\n",
       "region_big                0\n",
       "region_detail             0\n",
       "dtype: int64"
      ]
     },
     "execution_count": 4,
     "metadata": {},
     "output_type": "execute_result"
    }
   ],
   "source": [
    "df.isnull().sum()"
   ]
  },
  {
   "cell_type": "code",
   "execution_count": 5,
   "metadata": {},
   "outputs": [
    {
     "data": {
      "text/html": [
       "<div>\n",
       "<style scoped>\n",
       "    .dataframe tbody tr th:only-of-type {\n",
       "        vertical-align: middle;\n",
       "    }\n",
       "\n",
       "    .dataframe tbody tr th {\n",
       "        vertical-align: top;\n",
       "    }\n",
       "\n",
       "    .dataframe thead th {\n",
       "        text-align: right;\n",
       "    }\n",
       "</style>\n",
       "<table border=\"1\" class=\"dataframe\">\n",
       "  <thead>\n",
       "    <tr style=\"text-align: right;\">\n",
       "      <th></th>\n",
       "      <th>store_id</th>\n",
       "      <th>card_id</th>\n",
       "      <th>card_company</th>\n",
       "      <th>installment_term</th>\n",
       "      <th>amount</th>\n",
       "      <th>transacted_year</th>\n",
       "      <th>transacted_month</th>\n",
       "      <th>transacted_hour</th>\n",
       "      <th>type_big</th>\n",
       "      <th>region_big</th>\n",
       "      <th>region_detail</th>\n",
       "    </tr>\n",
       "  </thead>\n",
       "  <tbody>\n",
       "    <tr>\n",
       "      <th>0</th>\n",
       "      <td>0</td>\n",
       "      <td>0</td>\n",
       "      <td>b</td>\n",
       "      <td>0</td>\n",
       "      <td>1857.142857</td>\n",
       "      <td>2016</td>\n",
       "      <td>6</td>\n",
       "      <td>13</td>\n",
       "      <td>미용업</td>\n",
       "      <td>서울</td>\n",
       "      <td>광진구</td>\n",
       "    </tr>\n",
       "    <tr>\n",
       "      <th>1</th>\n",
       "      <td>0</td>\n",
       "      <td>1</td>\n",
       "      <td>h</td>\n",
       "      <td>0</td>\n",
       "      <td>857.142857</td>\n",
       "      <td>2016</td>\n",
       "      <td>6</td>\n",
       "      <td>18</td>\n",
       "      <td>미용업</td>\n",
       "      <td>서울</td>\n",
       "      <td>광진구</td>\n",
       "    </tr>\n",
       "    <tr>\n",
       "      <th>2</th>\n",
       "      <td>0</td>\n",
       "      <td>2</td>\n",
       "      <td>c</td>\n",
       "      <td>0</td>\n",
       "      <td>2000.000000</td>\n",
       "      <td>2016</td>\n",
       "      <td>6</td>\n",
       "      <td>18</td>\n",
       "      <td>미용업</td>\n",
       "      <td>서울</td>\n",
       "      <td>광진구</td>\n",
       "    </tr>\n",
       "  </tbody>\n",
       "</table>\n",
       "</div>"
      ],
      "text/plain": [
       "   store_id  card_id card_company  installment_term       amount  \\\n",
       "0         0        0            b                 0  1857.142857   \n",
       "1         0        1            h                 0   857.142857   \n",
       "2         0        2            c                 0  2000.000000   \n",
       "\n",
       "   transacted_year  transacted_month  transacted_hour type_big region_big  \\\n",
       "0             2016                 6               13      미용업         서울   \n",
       "1             2016                 6               18      미용업         서울   \n",
       "2             2016                 6               18      미용업         서울   \n",
       "\n",
       "  region_detail  \n",
       "0           광진구  \n",
       "1           광진구  \n",
       "2           광진구  "
      ]
     },
     "execution_count": 5,
     "metadata": {},
     "output_type": "execute_result"
    }
   ],
   "source": [
    "df.head(3)"
   ]
  },
  {
   "cell_type": "code",
   "execution_count": 6,
   "metadata": {},
   "outputs": [
    {
     "data": {
      "text/plain": [
       "<matplotlib.axes._subplots.AxesSubplot at 0x7fe4681d7400>"
      ]
     },
     "execution_count": 6,
     "metadata": {},
     "output_type": "execute_result"
    },
    {
     "data": {
      "image/png": "[encoded data removed]",
      "text/plain": [
       "<Figure size 720x288 with 1 Axes>"
      ]
     },
     "metadata": {
      "needs_background": "light"
     },
     "output_type": "display_data"
    }
   ],
   "source": [
    "plt.figure(figsize=(10, 4))\n",
    "plt.xlim(df.amount.min(), df.amount.max() * 1.1)\n",
    "sns.boxplot(x=df.amount)"
   ]
  },
  {
   "cell_type": "markdown",
   "metadata": {},
   "source": [
    "### check amount outliers"
   ]
  },
  {
   "cell_type": "code",
   "execution_count": 7,
   "metadata": {},
   "outputs": [
    {
     "data": {
      "text/html": [
       "<div>\n",
       "<style scoped>\n",
       "    .dataframe tbody tr th:only-of-type {\n",
       "        vertical-align: middle;\n",
       "    }\n",
       "\n",
       "    .dataframe tbody tr th {\n",
       "        vertical-align: top;\n",
       "    }\n",
       "\n",
       "    .dataframe thead th {\n",
       "        text-align: right;\n",
       "    }\n",
       "</style>\n",
       "<table border=\"1\" class=\"dataframe\">\n",
       "  <thead>\n",
       "    <tr style=\"text-align: right;\">\n",
       "      <th></th>\n",
       "      <th>store_id</th>\n",
       "      <th>card_id</th>\n",
       "      <th>card_company</th>\n",
       "      <th>installment_term</th>\n",
       "      <th>amount</th>\n",
       "      <th>transacted_year</th>\n",
       "      <th>transacted_month</th>\n",
       "      <th>transacted_hour</th>\n",
       "      <th>type_big</th>\n",
       "      <th>region_big</th>\n",
       "      <th>region_detail</th>\n",
       "    </tr>\n",
       "  </thead>\n",
       "  <tbody>\n",
       "    <tr>\n",
       "      <th>1480622</th>\n",
       "      <td>538</td>\n",
       "      <td>1024807</td>\n",
       "      <td>a</td>\n",
       "      <td>0</td>\n",
       "      <td>5.571429e+06</td>\n",
       "      <td>2017</td>\n",
       "      <td>4</td>\n",
       "      <td>17</td>\n",
       "      <td>도매업</td>\n",
       "      <td>서울</td>\n",
       "      <td>광진구</td>\n",
       "    </tr>\n",
       "    <tr>\n",
       "      <th>1482322</th>\n",
       "      <td>538</td>\n",
       "      <td>1024762</td>\n",
       "      <td>e</td>\n",
       "      <td>0</td>\n",
       "      <td>5.045518e+06</td>\n",
       "      <td>2018</td>\n",
       "      <td>4</td>\n",
       "      <td>9</td>\n",
       "      <td>도매업</td>\n",
       "      <td>서울</td>\n",
       "      <td>광진구</td>\n",
       "    </tr>\n",
       "  </tbody>\n",
       "</table>\n",
       "</div>"
      ],
      "text/plain": [
       "         store_id  card_id card_company  installment_term        amount  \\\n",
       "1480622       538  1024807            a                 0  5.571429e+06   \n",
       "1482322       538  1024762            e                 0  5.045518e+06   \n",
       "\n",
       "         transacted_year  transacted_month  transacted_hour type_big  \\\n",
       "1480622             2017                 4               17      도매업   \n",
       "1482322             2018                 4                9      도매업   \n",
       "\n",
       "        region_big region_detail  \n",
       "1480622         서울           광진구  \n",
       "1482322         서울           광진구  "
      ]
     },
     "execution_count": 7,
     "metadata": {},
     "output_type": "execute_result"
    }
   ],
   "source": [
    "df[df['amount']>5000000]"
   ]
  },
  {
   "cell_type": "code",
   "execution_count": 8,
   "metadata": {},
   "outputs": [],
   "source": [
    "df = df.drop([1480622, 1482322])"
   ]
  },
  {
   "cell_type": "code",
   "execution_count": 9,
   "metadata": {},
   "outputs": [
    {
     "data": {
      "text/plain": [
       "(73040, 0.01115084200765231)"
      ]
     },
     "execution_count": 9,
     "metadata": {},
     "output_type": "execute_result"
    }
   ],
   "source": [
    "# 1% 정도는 음수이다\n",
    "len(df[df['amount']<0]), len(df[df['amount']<0])/len(df)"
   ]
  },
  {
   "cell_type": "code",
   "execution_count": 10,
   "metadata": {},
   "outputs": [],
   "source": [
    "df = df[df['amount']>0]"
   ]
  },
  {
   "cell_type": "code",
   "execution_count": 11,
   "metadata": {},
   "outputs": [
    {
     "data": {
      "text/plain": [
       "<matplotlib.axes._subplots.AxesSubplot at 0x7fe43bea6278>"
      ]
     },
     "execution_count": 11,
     "metadata": {},
     "output_type": "execute_result"
    },
    {
     "data": {
      "image/png": "[encoded data removed]",
      "text/plain": [
       "<Figure size 432x288 with 1 Axes>"
      ]
     },
     "metadata": {
      "needs_background": "light"
     },
     "output_type": "display_data"
    }
   ],
   "source": [
    "sns.distplot(df['amount'])"
   ]
  },
  {
   "cell_type": "code",
   "execution_count": 12,
   "metadata": {
    "scrolled": true
   },
   "outputs": [
    {
     "data": {
      "text/plain": [
       "<matplotlib.axes._subplots.AxesSubplot at 0x7fe435d68710>"
      ]
     },
     "execution_count": 12,
     "metadata": {},
     "output_type": "execute_result"
    },
    {
     "data": {
      "image/png": "[encoded data removed]",
      "text/plain": [
       "<Figure size 432x288 with 1 Axes>"
      ]
     },
     "metadata": {
      "needs_background": "light"
     },
     "output_type": "display_data"
    }
   ],
   "source": [
    "sns.distplot(np.log1p(df['amount']))"
   ]
  },
  {
   "cell_type": "code",
   "execution_count": 13,
   "metadata": {},
   "outputs": [],
   "source": [
    "df['amount'] = np.log1p(df['amount'])"
   ]
  },
  {
   "cell_type": "markdown",
   "metadata": {},
   "source": [
    "### check transacted"
   ]
  },
  {
   "cell_type": "code",
   "execution_count": 14,
   "metadata": {},
   "outputs": [
    {
     "data": {
      "text/plain": [
       "(2016, 2019)"
      ]
     },
     "execution_count": 14,
     "metadata": {},
     "output_type": "execute_result"
    }
   ],
   "source": [
    "df['transacted_year'].min(), df['transacted_year'].max()"
   ]
  },
  {
   "cell_type": "code",
   "execution_count": 15,
   "metadata": {},
   "outputs": [
    {
     "data": {
      "text/plain": [
       "6"
      ]
     },
     "execution_count": 15,
     "metadata": {},
     "output_type": "execute_result"
    }
   ],
   "source": [
    "df[df['transacted_year']==2016]['transacted_month'].min()\n",
    "#2016년 6월부터 시작\n",
    "#3, 4, 5 -> 1\n",
    "#6, 7, 8 -> 2\n",
    "#9, 10, 11 -> 3\n",
    "#12, 1, 2 -> 4"
   ]
  },
  {
   "cell_type": "code",
   "execution_count": 16,
   "metadata": {},
   "outputs": [],
   "source": [
    "df['date_block_num'] = (df['transacted_year'] - 2016) * 12 + df['transacted_month'] - 6"
   ]
  },
  {
   "cell_type": "code",
   "execution_count": 17,
   "metadata": {},
   "outputs": [],
   "source": [
    "season_map = {3: 1, 4: 1, 5: 1, 6: 2, 7: 2, 8: 2, 9: 3, 10: 3, 11: 3, 12: 4, 1: 4, 2: 4}\n",
    "df['season_block'] = df['transacted_month'].replace(season_map)"
   ]
  },
  {
   "cell_type": "code",
   "execution_count": 18,
   "metadata": {
    "scrolled": true
   },
   "outputs": [
    {
     "data": {
      "text/html": [
       "<div>\n",
       "<style scoped>\n",
       "    .dataframe tbody tr th:only-of-type {\n",
       "        vertical-align: middle;\n",
       "    }\n",
       "\n",
       "    .dataframe tbody tr th {\n",
       "        vertical-align: top;\n",
       "    }\n",
       "\n",
       "    .dataframe thead th {\n",
       "        text-align: right;\n",
       "    }\n",
       "</style>\n",
       "<table border=\"1\" class=\"dataframe\">\n",
       "  <thead>\n",
       "    <tr style=\"text-align: right;\">\n",
       "      <th></th>\n",
       "      <th>store_id</th>\n",
       "      <th>card_id</th>\n",
       "      <th>card_company</th>\n",
       "      <th>installment_term</th>\n",
       "      <th>amount</th>\n",
       "      <th>transacted_year</th>\n",
       "      <th>transacted_month</th>\n",
       "      <th>transacted_hour</th>\n",
       "      <th>type_big</th>\n",
       "      <th>region_big</th>\n",
       "      <th>region_detail</th>\n",
       "      <th>date_block_num</th>\n",
       "      <th>season_block</th>\n",
       "    </tr>\n",
       "  </thead>\n",
       "  <tbody>\n",
       "    <tr>\n",
       "      <th>0</th>\n",
       "      <td>0</td>\n",
       "      <td>0</td>\n",
       "      <td>b</td>\n",
       "      <td>0</td>\n",
       "      <td>7.527333</td>\n",
       "      <td>2016</td>\n",
       "      <td>6</td>\n",
       "      <td>13</td>\n",
       "      <td>미용업</td>\n",
       "      <td>서울</td>\n",
       "      <td>광진구</td>\n",
       "      <td>0</td>\n",
       "      <td>2</td>\n",
       "    </tr>\n",
       "    <tr>\n",
       "      <th>1</th>\n",
       "      <td>0</td>\n",
       "      <td>1</td>\n",
       "      <td>h</td>\n",
       "      <td>0</td>\n",
       "      <td>6.754771</td>\n",
       "      <td>2016</td>\n",
       "      <td>6</td>\n",
       "      <td>18</td>\n",
       "      <td>미용업</td>\n",
       "      <td>서울</td>\n",
       "      <td>광진구</td>\n",
       "      <td>0</td>\n",
       "      <td>2</td>\n",
       "    </tr>\n",
       "    <tr>\n",
       "      <th>2</th>\n",
       "      <td>0</td>\n",
       "      <td>2</td>\n",
       "      <td>c</td>\n",
       "      <td>0</td>\n",
       "      <td>7.601402</td>\n",
       "      <td>2016</td>\n",
       "      <td>6</td>\n",
       "      <td>18</td>\n",
       "      <td>미용업</td>\n",
       "      <td>서울</td>\n",
       "      <td>광진구</td>\n",
       "      <td>0</td>\n",
       "      <td>2</td>\n",
       "    </tr>\n",
       "  </tbody>\n",
       "</table>\n",
       "</div>"
      ],
      "text/plain": [
       "   store_id  card_id card_company  installment_term    amount  \\\n",
       "0         0        0            b                 0  7.527333   \n",
       "1         0        1            h                 0  6.754771   \n",
       "2         0        2            c                 0  7.601402   \n",
       "\n",
       "   transacted_year  transacted_month  transacted_hour type_big region_big  \\\n",
       "0             2016                 6               13      미용업         서울   \n",
       "1             2016                 6               18      미용업         서울   \n",
       "2             2016                 6               18      미용업         서울   \n",
       "\n",
       "  region_detail  date_block_num  season_block  \n",
       "0           광진구               0             2  \n",
       "1           광진구               0             2  \n",
       "2           광진구               0             2  "
      ]
     },
     "execution_count": 18,
     "metadata": {},
     "output_type": "execute_result"
    }
   ],
   "source": [
    "df[df['date_block_num']==0].head(3)"
   ]
  },
  {
   "cell_type": "code",
   "execution_count": 20,
   "metadata": {},
   "outputs": [
    {
     "data": {
      "text/plain": [
       "9.846238136291504"
      ]
     },
     "execution_count": 20,
     "metadata": {},
     "output_type": "execute_result"
    }
   ],
   "source": [
    "ts = time.time()\n",
    "matrix = []\n",
    "cols = ['store_id', 'date_block_num']\n",
    "for i in df['store_id'].unique():\n",
    "    matrix.append(np.array(list(product(\n",
    "                                        [i],\n",
    "                                        df[df['store_id']==i]['date_block_num'].unique()\n",
    "                                       )), dtype='int16'))\n",
    "\n",
    "matrix = pd.DataFrame(np.vstack(matrix), columns=cols)\n",
    "matrix['date_block_num'] = matrix['date_block_num'].astype(np.int16)\n",
    "matrix['store_id'] = matrix['store_id'].astype(np.int16)\n",
    "time.time() - ts"
   ]
  },
  {
   "cell_type": "markdown",
   "metadata": {},
   "source": [
    "### check amount"
   ]
  },
  {
   "cell_type": "code",
   "execution_count": 21,
   "metadata": {},
   "outputs": [],
   "source": [
    "matrix['amount_month_sum'] = df.groupby(['store_id', 'date_block_num']).agg({'amount':'sum'}, as_index=False).values\n",
    "matrix['amount_month_mean'] = df.groupby(['store_id', 'date_block_num']).agg({'amount':'mean'}, as_index=False).values"
   ]
  },
  {
   "cell_type": "code",
   "execution_count": 22,
   "metadata": {},
   "outputs": [],
   "source": [
    "def merge_matrix(key, target):\n",
    "    group = df.groupby([key]).agg({target:pd.Series.unique}, as_index=True)\n",
    "    group[key] = group.index\n",
    "    return pd.merge(matrix, group, how='left', on=[key])"
   ]
  },
  {
   "cell_type": "code",
   "execution_count": 23,
   "metadata": {
    "scrolled": false
   },
   "outputs": [
    {
     "data": {
      "text/html": [
       "<div>\n",
       "<style scoped>\n",
       "    .dataframe tbody tr th:only-of-type {\n",
       "        vertical-align: middle;\n",
       "    }\n",
       "\n",
       "    .dataframe tbody tr th {\n",
       "        vertical-align: top;\n",
       "    }\n",
       "\n",
       "    .dataframe thead th {\n",
       "        text-align: right;\n",
       "    }\n",
       "</style>\n",
       "<table border=\"1\" class=\"dataframe\">\n",
       "  <thead>\n",
       "    <tr style=\"text-align: right;\">\n",
       "      <th></th>\n",
       "      <th>store_id</th>\n",
       "      <th>date_block_num</th>\n",
       "      <th>amount_month_sum</th>\n",
       "      <th>amount_month_mean</th>\n",
       "      <th>type_big</th>\n",
       "      <th>season_block</th>\n",
       "      <th>transacted_year</th>\n",
       "      <th>transacted_month</th>\n",
       "      <th>region_big</th>\n",
       "      <th>region_detail</th>\n",
       "    </tr>\n",
       "  </thead>\n",
       "  <tbody>\n",
       "    <tr>\n",
       "      <th>0</th>\n",
       "      <td>0</td>\n",
       "      <td>0</td>\n",
       "      <td>1175.874471</td>\n",
       "      <td>8.165795</td>\n",
       "      <td>미용업</td>\n",
       "      <td>2</td>\n",
       "      <td>2016</td>\n",
       "      <td>6</td>\n",
       "      <td>서울</td>\n",
       "      <td>광진구</td>\n",
       "    </tr>\n",
       "    <tr>\n",
       "      <th>1</th>\n",
       "      <td>0</td>\n",
       "      <td>1</td>\n",
       "      <td>1465.143783</td>\n",
       "      <td>8.231145</td>\n",
       "      <td>미용업</td>\n",
       "      <td>2</td>\n",
       "      <td>2016</td>\n",
       "      <td>7</td>\n",
       "      <td>서울</td>\n",
       "      <td>광진구</td>\n",
       "    </tr>\n",
       "    <tr>\n",
       "      <th>2</th>\n",
       "      <td>0</td>\n",
       "      <td>2</td>\n",
       "      <td>1378.652295</td>\n",
       "      <td>8.109719</td>\n",
       "      <td>미용업</td>\n",
       "      <td>2</td>\n",
       "      <td>2016</td>\n",
       "      <td>8</td>\n",
       "      <td>서울</td>\n",
       "      <td>광진구</td>\n",
       "    </tr>\n",
       "  </tbody>\n",
       "</table>\n",
       "</div>"
      ],
      "text/plain": [
       "   store_id  date_block_num  amount_month_sum  amount_month_mean type_big  \\\n",
       "0         0               0       1175.874471           8.165795      미용업   \n",
       "1         0               1       1465.143783           8.231145      미용업   \n",
       "2         0               2       1378.652295           8.109719      미용업   \n",
       "\n",
       "   season_block  transacted_year  transacted_month region_big region_detail  \n",
       "0             2             2016                 6         서울           광진구  \n",
       "1             2             2016                 7         서울           광진구  \n",
       "2             2             2016                 8         서울           광진구  "
      ]
     },
     "execution_count": 23,
     "metadata": {},
     "output_type": "execute_result"
    }
   ],
   "source": [
    "matrix = merge_matrix(key='store_id', target='type_big')\n",
    "matrix = merge_matrix(key='date_block_num', target='season_block')\n",
    "matrix = merge_matrix(key='date_block_num', target='transacted_year')\n",
    "matrix = merge_matrix(key='date_block_num', target='transacted_month')\n",
    "matrix = merge_matrix(key='store_id', target='region_big')\n",
    "matrix = merge_matrix(key='store_id', target='region_detail')\n",
    "matrix.head(3)"
   ]
  },
  {
   "cell_type": "code",
   "execution_count": 24,
   "metadata": {},
   "outputs": [],
   "source": [
    "for store_id in matrix['store_id'].unique():\n",
    "    tmp_type = matrix[matrix['store_id']==store_id]['type_big'].unique()[0]\n",
    "    tmp_region_big = matrix[matrix['store_id']==store_id]['region_big'].unique()[0]\n",
    "    tmp_region_detail = matrix[matrix['store_id']==store_id]['region_detail'].unique()[0]\n",
    "    \n",
    "    for step, block in enumerate([33, 34, 35]):\n",
    "        matrix = matrix.append(pd.DataFrame({'store_id': [store_id],\n",
    "                                            'date_block_num': [block],\n",
    "                                            'amount_month_sum': [np.nan],\n",
    "                                            'amount_month_mean': [np.nan],\n",
    "                                            'type_big': [tmp_type],\n",
    "                                            'season_block': [1],\n",
    "                                            'transacted_year': [2019],\n",
    "                                            'transacted_month': [step+3],\n",
    "                                            'region_big': [tmp_region_big],\n",
    "                                            'region_detail': [tmp_region_detail]}))\n",
    "    "
   ]
  },
  {
   "cell_type": "code",
   "execution_count": 25,
   "metadata": {},
   "outputs": [
    {
     "data": {
      "text/html": [
       "<div>\n",
       "<style scoped>\n",
       "    .dataframe tbody tr th:only-of-type {\n",
       "        vertical-align: middle;\n",
       "    }\n",
       "\n",
       "    .dataframe tbody tr th {\n",
       "        vertical-align: top;\n",
       "    }\n",
       "\n",
       "    .dataframe thead th {\n",
       "        text-align: right;\n",
       "    }\n",
       "</style>\n",
       "<table border=\"1\" class=\"dataframe\">\n",
       "  <thead>\n",
       "    <tr style=\"text-align: right;\">\n",
       "      <th></th>\n",
       "      <th>amount_month_mean</th>\n",
       "      <th>amount_month_sum</th>\n",
       "      <th>date_block_num</th>\n",
       "      <th>region_big</th>\n",
       "      <th>region_detail</th>\n",
       "      <th>season_block</th>\n",
       "      <th>store_id</th>\n",
       "      <th>transacted_month</th>\n",
       "      <th>transacted_year</th>\n",
       "      <th>type_big</th>\n",
       "    </tr>\n",
       "  </thead>\n",
       "  <tbody>\n",
       "    <tr>\n",
       "      <th>0</th>\n",
       "      <td>NaN</td>\n",
       "      <td>NaN</td>\n",
       "      <td>33</td>\n",
       "      <td>충남</td>\n",
       "      <td>예산군</td>\n",
       "      <td>1</td>\n",
       "      <td>2134</td>\n",
       "      <td>3</td>\n",
       "      <td>2019</td>\n",
       "      <td>NaN</td>\n",
       "    </tr>\n",
       "    <tr>\n",
       "      <th>0</th>\n",
       "      <td>NaN</td>\n",
       "      <td>NaN</td>\n",
       "      <td>33</td>\n",
       "      <td>경기</td>\n",
       "      <td>시흥시</td>\n",
       "      <td>1</td>\n",
       "      <td>2135</td>\n",
       "      <td>3</td>\n",
       "      <td>2019</td>\n",
       "      <td>NaN</td>\n",
       "    </tr>\n",
       "    <tr>\n",
       "      <th>0</th>\n",
       "      <td>NaN</td>\n",
       "      <td>NaN</td>\n",
       "      <td>33</td>\n",
       "      <td>제주</td>\n",
       "      <td>제주시</td>\n",
       "      <td>1</td>\n",
       "      <td>2136</td>\n",
       "      <td>3</td>\n",
       "      <td>2019</td>\n",
       "      <td>주점업</td>\n",
       "    </tr>\n",
       "  </tbody>\n",
       "</table>\n",
       "</div>"
      ],
      "text/plain": [
       "   amount_month_mean  amount_month_sum  date_block_num region_big  \\\n",
       "0                NaN               NaN              33         충남   \n",
       "0                NaN               NaN              33         경기   \n",
       "0                NaN               NaN              33         제주   \n",
       "\n",
       "  region_detail  season_block  store_id  transacted_month  transacted_year  \\\n",
       "0           예산군             1      2134                 3             2019   \n",
       "0           시흥시             1      2135                 3             2019   \n",
       "0           제주시             1      2136                 3             2019   \n",
       "\n",
       "  type_big  \n",
       "0      NaN  \n",
       "0      NaN  \n",
       "0      주점업  "
      ]
     },
     "execution_count": 25,
     "metadata": {},
     "output_type": "execute_result"
    }
   ],
   "source": [
    "matrix[matrix['date_block_num']==33].tail(3)"
   ]
  },
  {
   "cell_type": "code",
   "execution_count": 26,
   "metadata": {},
   "outputs": [],
   "source": [
    "def add_noise(series, noise_level):\n",
    "    return series * (1 + noise_level * np.random.randn(len(series)))\n",
    "\n",
    "def target_encode(trn_series=None, \n",
    "                  tst_series=None, \n",
    "                  target=None, \n",
    "                  min_samples_leaf=100, \n",
    "                  smoothing=10,\n",
    "                  noise_level=0.01):\n",
    "    \"\"\"\n",
    "    Smoothing is computed like in the following paper by Daniele Micci-Barreca\n",
    "    https://kaggle2.blob.core.windows.net/forum-message-attachments/225952/7441/high%20cardinality%20categoricals.pdf\n",
    "    trn_series : training categorical feature as a pd.Series\n",
    "    tst_series : test categorical feature as a pd.Series\n",
    "    target : target data as a pd.Series\n",
    "    min_samples_leaf (int) : minimum samples to take category average into account\n",
    "    smoothing (int) : smoothing effect to balance categorical average vs prior  \n",
    "    \"\"\" \n",
    "    assert len(trn_series) == len(target)\n",
    "    assert trn_series.name == tst_series.name\n",
    "    temp = pd.concat([trn_series, target], axis=1)\n",
    "    # Compute target mean \n",
    "    averages = temp.groupby(by=trn_series.name)[target.name].agg([\"mean\", \"count\"])\n",
    "    # Compute smoothing\n",
    "    smoothing = 1 / (1 + np.exp(-(averages[\"count\"] - min_samples_leaf) / smoothing))\n",
    "    # Apply average function to all target data\n",
    "    prior = target.mean()\n",
    "    # The bigger the count the less full_avg is taken into account\n",
    "    averages[target.name] = prior * (1 - smoothing) + averages[\"mean\"] * smoothing\n",
    "    averages.drop([\"mean\", \"count\"], axis=1, inplace=True)\n",
    "    # Apply averages to trn and tst series\n",
    "    ft_trn_series = pd.merge(\n",
    "        trn_series.to_frame(trn_series.name),\n",
    "        averages.reset_index().rename(columns={'index': target.name, target.name: 'average'}),\n",
    "        on=trn_series.name,\n",
    "        how='left')['average'].rename(trn_series.name + '_mean').fillna(prior)\n",
    "    # pd.merge does not keep the index so restore it\n",
    "    ft_trn_series.index = trn_series.index \n",
    "    ft_tst_series = pd.merge(\n",
    "        tst_series.to_frame(tst_series.name),\n",
    "        averages.reset_index().rename(columns={'index': target.name, target.name: 'average'}),\n",
    "        on=tst_series.name,\n",
    "        how='left')['average'].rename(trn_series.name + '_mean').fillna(prior)\n",
    "    # pd.merge does not keep the index so restore it\n",
    "    ft_tst_series.index = tst_series.index\n",
    "    return add_noise(ft_trn_series, noise_level), add_noise(ft_tst_series, noise_level)"
   ]
  },
  {
   "cell_type": "markdown",
   "metadata": {},
   "source": [
    "### check region"
   ]
  },
  {
   "cell_type": "code",
   "execution_count": 27,
   "metadata": {},
   "outputs": [],
   "source": [
    "def encoding_region(data, trn, cal_type, target='amount'):\n",
    "    group = df.groupby('store_id').agg({target: cal_type,\n",
    "                                        trn: pd.Series.unique\n",
    "                                       })\n",
    "    group['store_id'] = group.index\n",
    "    encoding, _ = target_encode(group[trn], group[trn], \n",
    "                                target=group[target])\n",
    "    \n",
    "    group['encoding_{}_{}'.format(trn, cal_type)] = encoding\n",
    "    return pd.merge(data, group[['store_id','encoding_{}_{}'.format(trn, cal_type)]],\n",
    "                    how='left', on=['store_id'])"
   ]
  },
  {
   "cell_type": "code",
   "execution_count": 28,
   "metadata": {},
   "outputs": [],
   "source": [
    "matrix = encoding_region(matrix, trn='region_big', cal_type='mean')\n",
    "matrix = encoding_region(matrix, trn='region_detail', cal_type='mean')\n",
    "matrix = encoding_region(matrix, trn='region_big', cal_type='sum')\n",
    "matrix = encoding_region(matrix, trn='region_detail', cal_type='sum')"
   ]
  },
  {
   "cell_type": "code",
   "execution_count": 29,
   "metadata": {},
   "outputs": [
    {
     "data": {
      "text/html": [
       "<div>\n",
       "<style scoped>\n",
       "    .dataframe tbody tr th:only-of-type {\n",
       "        vertical-align: middle;\n",
       "    }\n",
       "\n",
       "    .dataframe tbody tr th {\n",
       "        vertical-align: top;\n",
       "    }\n",
       "\n",
       "    .dataframe thead th {\n",
       "        text-align: right;\n",
       "    }\n",
       "</style>\n",
       "<table border=\"1\" class=\"dataframe\">\n",
       "  <thead>\n",
       "    <tr style=\"text-align: right;\">\n",
       "      <th></th>\n",
       "      <th>amount_month_mean</th>\n",
       "      <th>amount_month_sum</th>\n",
       "      <th>date_block_num</th>\n",
       "      <th>region_big</th>\n",
       "      <th>region_detail</th>\n",
       "      <th>season_block</th>\n",
       "      <th>store_id</th>\n",
       "      <th>transacted_month</th>\n",
       "      <th>transacted_year</th>\n",
       "      <th>type_big</th>\n",
       "      <th>encoding_region_big_mean</th>\n",
       "      <th>encoding_region_detail_mean</th>\n",
       "      <th>encoding_region_big_sum</th>\n",
       "      <th>encoding_region_detail_sum</th>\n",
       "    </tr>\n",
       "  </thead>\n",
       "  <tbody>\n",
       "    <tr>\n",
       "      <th>65913</th>\n",
       "      <td>NaN</td>\n",
       "      <td>NaN</td>\n",
       "      <td>34</td>\n",
       "      <td>경기</td>\n",
       "      <td>시흥시</td>\n",
       "      <td>1</td>\n",
       "      <td>2135</td>\n",
       "      <td>4</td>\n",
       "      <td>2019</td>\n",
       "      <td>NaN</td>\n",
       "      <td>8.902075</td>\n",
       "      <td>8.840079</td>\n",
       "      <td>26091.064937</td>\n",
       "      <td>28186.509045</td>\n",
       "    </tr>\n",
       "    <tr>\n",
       "      <th>65914</th>\n",
       "      <td>NaN</td>\n",
       "      <td>NaN</td>\n",
       "      <td>35</td>\n",
       "      <td>경기</td>\n",
       "      <td>시흥시</td>\n",
       "      <td>1</td>\n",
       "      <td>2135</td>\n",
       "      <td>5</td>\n",
       "      <td>2019</td>\n",
       "      <td>NaN</td>\n",
       "      <td>8.902075</td>\n",
       "      <td>8.840079</td>\n",
       "      <td>26091.064937</td>\n",
       "      <td>28186.509045</td>\n",
       "    </tr>\n",
       "    <tr>\n",
       "      <th>65915</th>\n",
       "      <td>NaN</td>\n",
       "      <td>NaN</td>\n",
       "      <td>33</td>\n",
       "      <td>제주</td>\n",
       "      <td>제주시</td>\n",
       "      <td>1</td>\n",
       "      <td>2136</td>\n",
       "      <td>3</td>\n",
       "      <td>2019</td>\n",
       "      <td>주점업</td>\n",
       "      <td>8.701468</td>\n",
       "      <td>8.794262</td>\n",
       "      <td>27341.933561</td>\n",
       "      <td>28038.829389</td>\n",
       "    </tr>\n",
       "    <tr>\n",
       "      <th>65916</th>\n",
       "      <td>NaN</td>\n",
       "      <td>NaN</td>\n",
       "      <td>34</td>\n",
       "      <td>제주</td>\n",
       "      <td>제주시</td>\n",
       "      <td>1</td>\n",
       "      <td>2136</td>\n",
       "      <td>4</td>\n",
       "      <td>2019</td>\n",
       "      <td>주점업</td>\n",
       "      <td>8.701468</td>\n",
       "      <td>8.794262</td>\n",
       "      <td>27341.933561</td>\n",
       "      <td>28038.829389</td>\n",
       "    </tr>\n",
       "    <tr>\n",
       "      <th>65917</th>\n",
       "      <td>NaN</td>\n",
       "      <td>NaN</td>\n",
       "      <td>35</td>\n",
       "      <td>제주</td>\n",
       "      <td>제주시</td>\n",
       "      <td>1</td>\n",
       "      <td>2136</td>\n",
       "      <td>5</td>\n",
       "      <td>2019</td>\n",
       "      <td>주점업</td>\n",
       "      <td>8.701468</td>\n",
       "      <td>8.794262</td>\n",
       "      <td>27341.933561</td>\n",
       "      <td>28038.829389</td>\n",
       "    </tr>\n",
       "  </tbody>\n",
       "</table>\n",
       "</div>"
      ],
      "text/plain": [
       "       amount_month_mean  amount_month_sum  date_block_num region_big  \\\n",
       "65913                NaN               NaN              34         경기   \n",
       "65914                NaN               NaN              35         경기   \n",
       "65915                NaN               NaN              33         제주   \n",
       "65916                NaN               NaN              34         제주   \n",
       "65917                NaN               NaN              35         제주   \n",
       "\n",
       "      region_detail  season_block  store_id  transacted_month  \\\n",
       "65913           시흥시             1      2135                 4   \n",
       "65914           시흥시             1      2135                 5   \n",
       "65915           제주시             1      2136                 3   \n",
       "65916           제주시             1      2136                 4   \n",
       "65917           제주시             1      2136                 5   \n",
       "\n",
       "       transacted_year type_big  encoding_region_big_mean  \\\n",
       "65913             2019      NaN                  8.902075   \n",
       "65914             2019      NaN                  8.902075   \n",
       "65915             2019      주점업                  8.701468   \n",
       "65916             2019      주점업                  8.701468   \n",
       "65917             2019      주점업                  8.701468   \n",
       "\n",
       "       encoding_region_detail_mean  encoding_region_big_sum  \\\n",
       "65913                     8.840079             26091.064937   \n",
       "65914                     8.840079             26091.064937   \n",
       "65915                     8.794262             27341.933561   \n",
       "65916                     8.794262             27341.933561   \n",
       "65917                     8.794262             27341.933561   \n",
       "\n",
       "       encoding_region_detail_sum  \n",
       "65913                28186.509045  \n",
       "65914                28186.509045  \n",
       "65915                28038.829389  \n",
       "65916                28038.829389  \n",
       "65917                28038.829389  "
      ]
     },
     "execution_count": 29,
     "metadata": {},
     "output_type": "execute_result"
    }
   ],
   "source": [
    "#matrix = matrix.drop(['region_big', 'region_detail'], axis=1)\n",
    "matrix.tail(5)"
   ]
  },
  {
   "cell_type": "markdown",
   "metadata": {},
   "source": [
    "### check type"
   ]
  },
  {
   "cell_type": "code",
   "execution_count": null,
   "metadata": {},
   "outputs": [],
   "source": []
  },
  {
   "cell_type": "code",
   "execution_count": 30,
   "metadata": {
    "scrolled": true
   },
   "outputs": [
    {
     "data": {
      "text/plain": [
       "'\\ndf_copy = df[[\\'store_id\\', \\'amount\\', \\'transacted_hour\\', \\'type_big\\']]\\ndf_copy = df_copy.groupby(\\'store_id\\').agg({\\'transacted_hour\\':lambda x:x.value_counts().index[0],\\n                                          \\'amount\\': \\'mean\\',\\n                                          \\'type_big\\':pd.Series.unique})\\ndf_copy = df_copy[df_copy[\\'type_big\\'].isin(df_copy[\\'type_big\\'].unique()[:5])]\\n#scaler = StandardScaler()\\n#scaler = MinMaxScaler()\\nscaler = RobustScaler()\\ndf_copy[[\\'amount\\', \\'transacted_hour\\']] = scaler.fit_transform(df_copy[[\\'amount\\', \\'transacted_hour\\']])\\nx_train = df_copy[~df_copy[\\'type_big\\'].isnull()][[\\'amount\\', \\'transacted_hour\\']]\\ny_train = df_copy[~df_copy[\\'type_big\\'].isnull()][[\\'type_big\\']]\\nx_test =  df_copy[df_copy[\\'type_big\\'].isnull()][[\\'amount\\', \\'transacted_hour\\']]\\ny_test =  df_copy[df_copy[\\'type_big\\'].isnull()][[\\'type_big\\']]\\nneigh = KNeighborsClassifier(n_neighbors=1)\\nneigh.fit(x_train, y_train) \\nplt.figure(figsize=(10, 10))\\nax = sns.scatterplot(x=\"transacted_hour\", y=\"amount\", hue=\"type_big\",\\n                      data=df_copy[:1000])\\n'"
      ]
     },
     "execution_count": 30,
     "metadata": {},
     "output_type": "execute_result"
    }
   ],
   "source": [
    "from sklearn.preprocessing import StandardScaler, RobustScaler, MinMaxScaler\n",
    "from sklearn.neighbors import KNeighborsClassifier\n",
    "\n",
    "'''\n",
    "df_copy = df[['store_id', 'amount', 'transacted_hour', 'type_big']]\n",
    "df_copy = df_copy.groupby('store_id').agg({'transacted_hour':lambda x:x.value_counts().index[0],\n",
    "                                          'amount': 'mean',\n",
    "                                          'type_big':pd.Series.unique})\n",
    "df_copy = df_copy[df_copy['type_big'].isin(df_copy['type_big'].unique()[:5])]\n",
    "#scaler = StandardScaler()\n",
    "#scaler = MinMaxScaler()\n",
    "scaler = RobustScaler()\n",
    "df_copy[['amount', 'transacted_hour']] = scaler.fit_transform(df_copy[['amount', 'transacted_hour']])\n",
    "x_train = df_copy[~df_copy['type_big'].isnull()][['amount', 'transacted_hour']]\n",
    "y_train = df_copy[~df_copy['type_big'].isnull()][['type_big']]\n",
    "x_test =  df_copy[df_copy['type_big'].isnull()][['amount', 'transacted_hour']]\n",
    "y_test =  df_copy[df_copy['type_big'].isnull()][['type_big']]\n",
    "neigh = KNeighborsClassifier(n_neighbors=1)\n",
    "neigh.fit(x_train, y_train) \n",
    "plt.figure(figsize=(10, 10))\n",
    "ax = sns.scatterplot(x=\"transacted_hour\", y=\"amount\", hue=\"type_big\",\n",
    "                      data=df_copy[:1000])\n",
    "'''"
   ]
  },
  {
   "cell_type": "code",
   "execution_count": 31,
   "metadata": {},
   "outputs": [],
   "source": [
    "matrix[~matrix['type_big'].isnull()] = encoding_region(matrix[~matrix['type_big'].isnull()], trn='type_big', cal_type='mean')\n",
    "matrix[~matrix['type_big'].isnull()] = encoding_region(matrix[~matrix['type_big'].isnull()], trn='type_big', cal_type='max')\n"
   ]
  },
  {
   "cell_type": "code",
   "execution_count": 32,
   "metadata": {},
   "outputs": [
    {
     "data": {
      "text/html": [
       "<div>\n",
       "<style scoped>\n",
       "    .dataframe tbody tr th:only-of-type {\n",
       "        vertical-align: middle;\n",
       "    }\n",
       "\n",
       "    .dataframe tbody tr th {\n",
       "        vertical-align: top;\n",
       "    }\n",
       "\n",
       "    .dataframe thead th {\n",
       "        text-align: right;\n",
       "    }\n",
       "</style>\n",
       "<table border=\"1\" class=\"dataframe\">\n",
       "  <thead>\n",
       "    <tr style=\"text-align: right;\">\n",
       "      <th></th>\n",
       "      <th>amount_month_mean</th>\n",
       "      <th>amount_month_sum</th>\n",
       "      <th>date_block_num</th>\n",
       "      <th>region_big</th>\n",
       "      <th>region_detail</th>\n",
       "      <th>season_block</th>\n",
       "      <th>store_id</th>\n",
       "      <th>transacted_month</th>\n",
       "      <th>transacted_year</th>\n",
       "      <th>type_big</th>\n",
       "      <th>encoding_region_big_mean</th>\n",
       "      <th>encoding_region_detail_mean</th>\n",
       "      <th>encoding_region_big_sum</th>\n",
       "      <th>encoding_region_detail_sum</th>\n",
       "    </tr>\n",
       "  </thead>\n",
       "  <tbody>\n",
       "    <tr>\n",
       "      <th>0</th>\n",
       "      <td>8.165795</td>\n",
       "      <td>1175.874471</td>\n",
       "      <td>0.0</td>\n",
       "      <td>서울</td>\n",
       "      <td>광진구</td>\n",
       "      <td>2.0</td>\n",
       "      <td>0.0</td>\n",
       "      <td>6.0</td>\n",
       "      <td>2016.0</td>\n",
       "      <td>미용업</td>\n",
       "      <td>8.730514</td>\n",
       "      <td>8.683716</td>\n",
       "      <td>27752.429806</td>\n",
       "      <td>27995.68133</td>\n",
       "    </tr>\n",
       "    <tr>\n",
       "      <th>1</th>\n",
       "      <td>8.231145</td>\n",
       "      <td>1465.143783</td>\n",
       "      <td>1.0</td>\n",
       "      <td>서울</td>\n",
       "      <td>광진구</td>\n",
       "      <td>2.0</td>\n",
       "      <td>0.0</td>\n",
       "      <td>7.0</td>\n",
       "      <td>2016.0</td>\n",
       "      <td>미용업</td>\n",
       "      <td>8.730514</td>\n",
       "      <td>8.683716</td>\n",
       "      <td>27752.429806</td>\n",
       "      <td>27995.68133</td>\n",
       "    </tr>\n",
       "    <tr>\n",
       "      <th>2</th>\n",
       "      <td>8.109719</td>\n",
       "      <td>1378.652295</td>\n",
       "      <td>2.0</td>\n",
       "      <td>서울</td>\n",
       "      <td>광진구</td>\n",
       "      <td>2.0</td>\n",
       "      <td>0.0</td>\n",
       "      <td>8.0</td>\n",
       "      <td>2016.0</td>\n",
       "      <td>미용업</td>\n",
       "      <td>8.730514</td>\n",
       "      <td>8.683716</td>\n",
       "      <td>27752.429806</td>\n",
       "      <td>27995.68133</td>\n",
       "    </tr>\n",
       "  </tbody>\n",
       "</table>\n",
       "</div>"
      ],
      "text/plain": [
       "   amount_month_mean  amount_month_sum  date_block_num region_big  \\\n",
       "0           8.165795       1175.874471             0.0         서울   \n",
       "1           8.231145       1465.143783             1.0         서울   \n",
       "2           8.109719       1378.652295             2.0         서울   \n",
       "\n",
       "  region_detail  season_block  store_id  transacted_month  transacted_year  \\\n",
       "0           광진구           2.0       0.0               6.0           2016.0   \n",
       "1           광진구           2.0       0.0               7.0           2016.0   \n",
       "2           광진구           2.0       0.0               8.0           2016.0   \n",
       "\n",
       "  type_big  encoding_region_big_mean  encoding_region_detail_mean  \\\n",
       "0      미용업                  8.730514                     8.683716   \n",
       "1      미용업                  8.730514                     8.683716   \n",
       "2      미용업                  8.730514                     8.683716   \n",
       "\n",
       "   encoding_region_big_sum  encoding_region_detail_sum  \n",
       "0             27752.429806                 27995.68133  \n",
       "1             27752.429806                 27995.68133  \n",
       "2             27752.429806                 27995.68133  "
      ]
     },
     "execution_count": 32,
     "metadata": {},
     "output_type": "execute_result"
    }
   ],
   "source": [
    "matrix.head(3)"
   ]
  },
  {
   "cell_type": "markdown",
   "metadata": {},
   "source": [
    "### make lagfeature and target feature"
   ]
  },
  {
   "cell_type": "code",
   "execution_count": null,
   "metadata": {},
   "outputs": [],
   "source": [
    "#전체 판매 금액 대비 몇 프로인가 -> lag features\n",
    "#전체 판매 평균금액 대비 몇 프로인가 -> lag features"
   ]
  },
  {
   "cell_type": "code",
   "execution_count": 33,
   "metadata": {},
   "outputs": [],
   "source": [
    "def lag_feature(df, lags, col):\n",
    "    tmp = df[['date_block_num', 'store_id', col]]\n",
    "    for i in lags:\n",
    "        shifted = tmp.copy()\n",
    "        shifted.columns = ['date_block_num', 'store_id',\n",
    "                          col+'_lag_'+str(i)]\n",
    "        shifted['date_block_num'] += i\n",
    "        df = pd.merge(df, shifted, on=['date_block_num', 'store_id'],\n",
    "                          how='left')\n",
    "    return df"
   ]
  },
  {
   "cell_type": "code",
   "execution_count": 34,
   "metadata": {},
   "outputs": [
    {
     "ename": "MemoryError",
     "evalue": "",
     "output_type": "error",
     "traceback": [
      "\u001b[0;31m---------------------------------------------------------------------------\u001b[0m",
      "\u001b[0;31mMemoryError\u001b[0m                               Traceback (most recent call last)",
      "\u001b[0;32m<ipython-input-34-4565274f623e>\u001b[0m in \u001b[0;36m<module>\u001b[0;34m\u001b[0m\n\u001b[1;32m      2\u001b[0m \u001b[0mlag_features\u001b[0m \u001b[0;34m=\u001b[0m \u001b[0;34m[\u001b[0m\u001b[0;34m'amount_month_mean'\u001b[0m\u001b[0;34m,\u001b[0m \u001b[0;34m'amount_month_sum'\u001b[0m\u001b[0;34m]\u001b[0m\u001b[0;34m\u001b[0m\u001b[0m\n\u001b[1;32m      3\u001b[0m \u001b[0;32mfor\u001b[0m \u001b[0mfeature\u001b[0m \u001b[0;32min\u001b[0m \u001b[0mlag_features\u001b[0m\u001b[0;34m:\u001b[0m\u001b[0;34m\u001b[0m\u001b[0m\n\u001b[0;32m----> 4\u001b[0;31m     \u001b[0mmatrix\u001b[0m \u001b[0;34m=\u001b[0m \u001b[0mlag_feature\u001b[0m\u001b[0;34m(\u001b[0m\u001b[0mdf\u001b[0m\u001b[0;34m=\u001b[0m\u001b[0mmatrix\u001b[0m\u001b[0;34m,\u001b[0m \u001b[0mlags\u001b[0m\u001b[0;34m=\u001b[0m\u001b[0mamount_lags\u001b[0m\u001b[0;34m,\u001b[0m \u001b[0mcol\u001b[0m\u001b[0;34m=\u001b[0m\u001b[0mfeature\u001b[0m \u001b[0;34m)\u001b[0m\u001b[0;34m\u001b[0m\u001b[0m\n\u001b[0m",
      "\u001b[0;32m<ipython-input-33-8330dfd25480>\u001b[0m in \u001b[0;36mlag_feature\u001b[0;34m(df, lags, col)\u001b[0m\n\u001b[1;32m      7\u001b[0m         \u001b[0mshifted\u001b[0m\u001b[0;34m[\u001b[0m\u001b[0;34m'date_block_num'\u001b[0m\u001b[0;34m]\u001b[0m \u001b[0;34m+=\u001b[0m \u001b[0mi\u001b[0m\u001b[0;34m\u001b[0m\u001b[0m\n\u001b[1;32m      8\u001b[0m         df = pd.merge(df, shifted, on=['date_block_num', 'store_id'],\n\u001b[0;32m----> 9\u001b[0;31m                           how='left')\n\u001b[0m\u001b[1;32m     10\u001b[0m     \u001b[0;32mreturn\u001b[0m \u001b[0mdf\u001b[0m\u001b[0;34m\u001b[0m\u001b[0m\n",
      "\u001b[0;32m/usr/local/lib/python3.5/dist-packages/pandas/core/reshape/merge.py\u001b[0m in \u001b[0;36mmerge\u001b[0;34m(left, right, how, on, left_on, right_on, left_index, right_index, sort, suffixes, copy, indicator, validate)\u001b[0m\n\u001b[1;32m     60\u001b[0m                          \u001b[0mcopy\u001b[0m\u001b[0;34m=\u001b[0m\u001b[0mcopy\u001b[0m\u001b[0;34m,\u001b[0m \u001b[0mindicator\u001b[0m\u001b[0;34m=\u001b[0m\u001b[0mindicator\u001b[0m\u001b[0;34m,\u001b[0m\u001b[0;34m\u001b[0m\u001b[0m\n\u001b[1;32m     61\u001b[0m                          validate=validate)\n\u001b[0;32m---> 62\u001b[0;31m     \u001b[0;32mreturn\u001b[0m \u001b[0mop\u001b[0m\u001b[0;34m.\u001b[0m\u001b[0mget_result\u001b[0m\u001b[0;34m(\u001b[0m\u001b[0;34m)\u001b[0m\u001b[0;34m\u001b[0m\u001b[0m\n\u001b[0m\u001b[1;32m     63\u001b[0m \u001b[0;34m\u001b[0m\u001b[0m\n\u001b[1;32m     64\u001b[0m \u001b[0;34m\u001b[0m\u001b[0m\n",
      "\u001b[0;32m/usr/local/lib/python3.5/dist-packages/pandas/core/reshape/merge.py\u001b[0m in \u001b[0;36mget_result\u001b[0;34m(self)\u001b[0m\n\u001b[1;32m    580\u001b[0m             \u001b[0;34m[\u001b[0m\u001b[0;34m(\u001b[0m\u001b[0mldata\u001b[0m\u001b[0;34m,\u001b[0m \u001b[0mlindexers\u001b[0m\u001b[0;34m)\u001b[0m\u001b[0;34m,\u001b[0m \u001b[0;34m(\u001b[0m\u001b[0mrdata\u001b[0m\u001b[0;34m,\u001b[0m \u001b[0mrindexers\u001b[0m\u001b[0;34m)\u001b[0m\u001b[0;34m]\u001b[0m\u001b[0;34m,\u001b[0m\u001b[0;34m\u001b[0m\u001b[0m\n\u001b[1;32m    581\u001b[0m             \u001b[0maxes\u001b[0m\u001b[0;34m=\u001b[0m\u001b[0;34m[\u001b[0m\u001b[0mllabels\u001b[0m\u001b[0;34m.\u001b[0m\u001b[0mappend\u001b[0m\u001b[0;34m(\u001b[0m\u001b[0mrlabels\u001b[0m\u001b[0;34m)\u001b[0m\u001b[0;34m,\u001b[0m \u001b[0mjoin_index\u001b[0m\u001b[0;34m]\u001b[0m\u001b[0;34m,\u001b[0m\u001b[0;34m\u001b[0m\u001b[0m\n\u001b[0;32m--> 582\u001b[0;31m             concat_axis=0, copy=self.copy)\n\u001b[0m\u001b[1;32m    583\u001b[0m \u001b[0;34m\u001b[0m\u001b[0m\n\u001b[1;32m    584\u001b[0m         \u001b[0mtyp\u001b[0m \u001b[0;34m=\u001b[0m \u001b[0mself\u001b[0m\u001b[0;34m.\u001b[0m\u001b[0mleft\u001b[0m\u001b[0;34m.\u001b[0m\u001b[0m_constructor\u001b[0m\u001b[0;34m\u001b[0m\u001b[0m\n",
      "\u001b[0;32m/usr/local/lib/python3.5/dist-packages/pandas/core/internals.py\u001b[0m in \u001b[0;36mconcatenate_block_managers\u001b[0;34m(mgrs_indexers, axes, concat_axis, copy)\u001b[0m\n\u001b[1;32m   5419\u001b[0m         \u001b[0;32melse\u001b[0m\u001b[0;34m:\u001b[0m\u001b[0;34m\u001b[0m\u001b[0m\n\u001b[1;32m   5420\u001b[0m             b = make_block(\n\u001b[0;32m-> 5421\u001b[0;31m                 \u001b[0mconcatenate_join_units\u001b[0m\u001b[0;34m(\u001b[0m\u001b[0mjoin_units\u001b[0m\u001b[0;34m,\u001b[0m \u001b[0mconcat_axis\u001b[0m\u001b[0;34m,\u001b[0m \u001b[0mcopy\u001b[0m\u001b[0;34m=\u001b[0m\u001b[0mcopy\u001b[0m\u001b[0;34m)\u001b[0m\u001b[0;34m,\u001b[0m\u001b[0;34m\u001b[0m\u001b[0m\n\u001b[0m\u001b[1;32m   5422\u001b[0m                 placement=placement)\n\u001b[1;32m   5423\u001b[0m         \u001b[0mblocks\u001b[0m\u001b[0;34m.\u001b[0m\u001b[0mappend\u001b[0m\u001b[0;34m(\u001b[0m\u001b[0mb\u001b[0m\u001b[0;34m)\u001b[0m\u001b[0;34m\u001b[0m\u001b[0m\n",
      "\u001b[0;32m/usr/local/lib/python3.5/dist-packages/pandas/core/internals.py\u001b[0m in \u001b[0;36mconcatenate_join_units\u001b[0;34m(join_units, concat_axis, copy)\u001b[0m\n\u001b[1;32m   5563\u001b[0m     to_concat = [ju.get_reindexed_values(empty_dtype=empty_dtype,\n\u001b[1;32m   5564\u001b[0m                                          upcasted_na=upcasted_na)\n\u001b[0;32m-> 5565\u001b[0;31m                  for ju in join_units]\n\u001b[0m\u001b[1;32m   5566\u001b[0m \u001b[0;34m\u001b[0m\u001b[0m\n\u001b[1;32m   5567\u001b[0m     \u001b[0;32mif\u001b[0m \u001b[0mlen\u001b[0m\u001b[0;34m(\u001b[0m\u001b[0mto_concat\u001b[0m\u001b[0;34m)\u001b[0m \u001b[0;34m==\u001b[0m \u001b[0;36m1\u001b[0m\u001b[0;34m:\u001b[0m\u001b[0;34m\u001b[0m\u001b[0m\n",
      "\u001b[0;32m/usr/local/lib/python3.5/dist-packages/pandas/core/internals.py\u001b[0m in \u001b[0;36m<listcomp>\u001b[0;34m(.0)\u001b[0m\n\u001b[1;32m   5563\u001b[0m     to_concat = [ju.get_reindexed_values(empty_dtype=empty_dtype,\n\u001b[1;32m   5564\u001b[0m                                          upcasted_na=upcasted_na)\n\u001b[0;32m-> 5565\u001b[0;31m                  for ju in join_units]\n\u001b[0m\u001b[1;32m   5566\u001b[0m \u001b[0;34m\u001b[0m\u001b[0m\n\u001b[1;32m   5567\u001b[0m     \u001b[0;32mif\u001b[0m \u001b[0mlen\u001b[0m\u001b[0;34m(\u001b[0m\u001b[0mto_concat\u001b[0m\u001b[0;34m)\u001b[0m \u001b[0;34m==\u001b[0m \u001b[0;36m1\u001b[0m\u001b[0;34m:\u001b[0m\u001b[0;34m\u001b[0m\u001b[0m\n",
      "\u001b[0;32m/usr/local/lib/python3.5/dist-packages/pandas/core/internals.py\u001b[0m in \u001b[0;36mget_reindexed_values\u001b[0;34m(self, empty_dtype, upcasted_na)\u001b[0m\n\u001b[1;32m   5873\u001b[0m             \u001b[0;32mfor\u001b[0m \u001b[0max\u001b[0m\u001b[0;34m,\u001b[0m \u001b[0mindexer\u001b[0m \u001b[0;32min\u001b[0m \u001b[0mself\u001b[0m\u001b[0;34m.\u001b[0m\u001b[0mindexers\u001b[0m\u001b[0;34m.\u001b[0m\u001b[0mitems\u001b[0m\u001b[0;34m(\u001b[0m\u001b[0;34m)\u001b[0m\u001b[0;34m:\u001b[0m\u001b[0;34m\u001b[0m\u001b[0m\n\u001b[1;32m   5874\u001b[0m                 values = algos.take_nd(values, indexer, axis=ax,\n\u001b[0;32m-> 5875\u001b[0;31m                                        fill_value=fill_value)\n\u001b[0m\u001b[1;32m   5876\u001b[0m \u001b[0;34m\u001b[0m\u001b[0m\n\u001b[1;32m   5877\u001b[0m         \u001b[0;32mreturn\u001b[0m \u001b[0mvalues\u001b[0m\u001b[0;34m\u001b[0m\u001b[0m\n",
      "\u001b[0;32m/usr/local/lib/python3.5/dist-packages/pandas/core/algorithms.py\u001b[0m in \u001b[0;36mtake_nd\u001b[0;34m(arr, indexer, axis, out, fill_value, mask_info, allow_fill)\u001b[0m\n\u001b[1;32m   1653\u001b[0m             \u001b[0mout\u001b[0m \u001b[0;34m=\u001b[0m \u001b[0mnp\u001b[0m\u001b[0;34m.\u001b[0m\u001b[0mempty\u001b[0m\u001b[0;34m(\u001b[0m\u001b[0mout_shape\u001b[0m\u001b[0;34m,\u001b[0m \u001b[0mdtype\u001b[0m\u001b[0;34m=\u001b[0m\u001b[0mdtype\u001b[0m\u001b[0;34m,\u001b[0m \u001b[0morder\u001b[0m\u001b[0;34m=\u001b[0m\u001b[0;34m'F'\u001b[0m\u001b[0;34m)\u001b[0m\u001b[0;34m\u001b[0m\u001b[0m\n\u001b[1;32m   1654\u001b[0m         \u001b[0;32melse\u001b[0m\u001b[0;34m:\u001b[0m\u001b[0;34m\u001b[0m\u001b[0m\n\u001b[0;32m-> 1655\u001b[0;31m             \u001b[0mout\u001b[0m \u001b[0;34m=\u001b[0m \u001b[0mnp\u001b[0m\u001b[0;34m.\u001b[0m\u001b[0mempty\u001b[0m\u001b[0;34m(\u001b[0m\u001b[0mout_shape\u001b[0m\u001b[0;34m,\u001b[0m \u001b[0mdtype\u001b[0m\u001b[0;34m=\u001b[0m\u001b[0mdtype\u001b[0m\u001b[0;34m)\u001b[0m\u001b[0;34m\u001b[0m\u001b[0m\n\u001b[0m\u001b[1;32m   1656\u001b[0m \u001b[0;34m\u001b[0m\u001b[0m\n\u001b[1;32m   1657\u001b[0m     func = _get_take_nd_function(arr.ndim, arr.dtype, out.dtype, axis=axis,\n",
      "\u001b[0;31mMemoryError\u001b[0m: "
     ]
    }
   ],
   "source": [
    "amount_lags = [3, 4, 5, 12, 13, 14, 24, 25, 26]\n",
    "lag_features = ['amount_month_mean', 'amount_month_sum']\n",
    "for feature in lag_features:\n",
    "    matrix = lag_feature(df=matrix, lags=amount_lags, col=feature )"
   ]
  },
  {
   "cell_type": "code",
   "execution_count": null,
   "metadata": {},
   "outputs": [],
   "source": [
    "matrix.tail(3)"
   ]
  },
  {
   "cell_type": "code",
   "execution_count": null,
   "metadata": {},
   "outputs": [],
   "source": [
    "matrix.isnull().sum()"
   ]
  },
  {
   "cell_type": "code",
   "execution_count": 37,
   "metadata": {},
   "outputs": [
    {
     "name": "stdout",
     "output_type": "stream",
     "text": [
      "<class 'pandas.core.frame.DataFrame'>\n",
      "Int64Index: 65918 entries, 0 to 65917\n",
      "Data columns (total 14 columns):\n",
      "amount_month_mean              40424 non-null float64\n",
      "amount_month_sum               40424 non-null float64\n",
      "date_block_num                 44291 non-null float64\n",
      "region_big                     44291 non-null object\n",
      "region_detail                  44291 non-null object\n",
      "season_block                   44291 non-null float64\n",
      "store_id                       44291 non-null float64\n",
      "transacted_month               44291 non-null float64\n",
      "transacted_year                44291 non-null float64\n",
      "type_big                       5333 non-null object\n",
      "encoding_region_big_mean       44291 non-null float64\n",
      "encoding_region_detail_mean    44291 non-null float64\n",
      "encoding_region_big_sum        44291 non-null float64\n",
      "encoding_region_detail_sum     44291 non-null float64\n",
      "dtypes: float64(11), object(3)\n",
      "memory usage: 7.5+ MB\n"
     ]
    }
   ],
   "source": [
    "matrix.info()"
   ]
  },
  {
   "cell_type": "code",
   "execution_count": null,
   "metadata": {},
   "outputs": [],
   "source": []
  }
 ],
 "metadata": {
  "kernelspec": {
   "display_name": "Python 3",
   "language": "python",
   "name": "python3"
  },
  "language_info": {
   "codemirror_mode": {
    "name": "ipython",
    "version": 3
   },
   "file_extension": ".py",
   "mimetype": "text/x-python",
   "name": "python",
   "nbconvert_exporter": "python",
   "pygments_lexer": "ipython3",
   "version": "3.5.2"
  }
 },
 "nbformat": 4,
 "nbformat_minor": 2
}
