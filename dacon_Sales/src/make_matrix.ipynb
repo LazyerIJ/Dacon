{
 "cells": [
  {
   "cell_type": "code",
   "execution_count": 1,
   "metadata": {},
   "outputs": [],
   "source": [
    "import pandas as pd\n",
    "import matplotlib.pyplot as plt\n",
    "import seaborn as sns\n",
    "import time\n",
    "import numpy as np\n",
    "from itertools import product\n",
    "import warnings"
   ]
  },
  {
   "cell_type": "code",
   "execution_count": 2,
   "metadata": {},
   "outputs": [],
   "source": [
    "warnings.filterwarnings('ignore')\n",
    "plt.rcParams[\"font.family\"] = 'NanumGothic'"
   ]
  },
  {
   "cell_type": "code",
   "execution_count": 3,
   "metadata": {},
   "outputs": [],
   "source": [
    "df = pd.read_csv('df_fixed.csv')\n",
    "df = df.drop(['Unnamed: 0', 'transacted_date', 'transacted_time', 'region', 'type_of_business'], axis=1)"
   ]
  },
  {
   "cell_type": "code",
   "execution_count": 4,
   "metadata": {},
   "outputs": [
    {
     "data": {
      "text/plain": [
       "store_id                  0\n",
       "card_id                   0\n",
       "card_company              0\n",
       "installment_term          0\n",
       "amount                    0\n",
       "transacted_year           0\n",
       "transacted_month          0\n",
       "transacted_hour           0\n",
       "type_big            3952609\n",
       "region_big                0\n",
       "region_detail             0\n",
       "dtype: int64"
      ]
     },
     "execution_count": 4,
     "metadata": {},
     "output_type": "execute_result"
    }
   ],
   "source": [
    "df.isnull().sum()"
   ]
  },
  {
   "cell_type": "code",
   "execution_count": 5,
   "metadata": {},
   "outputs": [
    {
     "data": {
      "text/html": [
       "<div>\n",
       "<style scoped>\n",
       "    .dataframe tbody tr th:only-of-type {\n",
       "        vertical-align: middle;\n",
       "    }\n",
       "\n",
       "    .dataframe tbody tr th {\n",
       "        vertical-align: top;\n",
       "    }\n",
       "\n",
       "    .dataframe thead th {\n",
       "        text-align: right;\n",
       "    }\n",
       "</style>\n",
       "<table border=\"1\" class=\"dataframe\">\n",
       "  <thead>\n",
       "    <tr style=\"text-align: right;\">\n",
       "      <th></th>\n",
       "      <th>store_id</th>\n",
       "      <th>card_id</th>\n",
       "      <th>card_company</th>\n",
       "      <th>installment_term</th>\n",
       "      <th>amount</th>\n",
       "      <th>transacted_year</th>\n",
       "      <th>transacted_month</th>\n",
       "      <th>transacted_hour</th>\n",
       "      <th>type_big</th>\n",
       "      <th>region_big</th>\n",
       "      <th>region_detail</th>\n",
       "    </tr>\n",
       "  </thead>\n",
       "  <tbody>\n",
       "    <tr>\n",
       "      <th>0</th>\n",
       "      <td>0</td>\n",
       "      <td>0</td>\n",
       "      <td>b</td>\n",
       "      <td>0</td>\n",
       "      <td>1857.142857</td>\n",
       "      <td>2016</td>\n",
       "      <td>6</td>\n",
       "      <td>13</td>\n",
       "      <td>미용업</td>\n",
       "      <td>서울</td>\n",
       "      <td>광진구</td>\n",
       "    </tr>\n",
       "    <tr>\n",
       "      <th>1</th>\n",
       "      <td>0</td>\n",
       "      <td>1</td>\n",
       "      <td>h</td>\n",
       "      <td>0</td>\n",
       "      <td>857.142857</td>\n",
       "      <td>2016</td>\n",
       "      <td>6</td>\n",
       "      <td>18</td>\n",
       "      <td>미용업</td>\n",
       "      <td>서울</td>\n",
       "      <td>광진구</td>\n",
       "    </tr>\n",
       "    <tr>\n",
       "      <th>2</th>\n",
       "      <td>0</td>\n",
       "      <td>2</td>\n",
       "      <td>c</td>\n",
       "      <td>0</td>\n",
       "      <td>2000.000000</td>\n",
       "      <td>2016</td>\n",
       "      <td>6</td>\n",
       "      <td>18</td>\n",
       "      <td>미용업</td>\n",
       "      <td>서울</td>\n",
       "      <td>광진구</td>\n",
       "    </tr>\n",
       "  </tbody>\n",
       "</table>\n",
       "</div>"
      ],
      "text/plain": [
       "   store_id  card_id card_company  installment_term       amount  \\\n",
       "0         0        0            b                 0  1857.142857   \n",
       "1         0        1            h                 0   857.142857   \n",
       "2         0        2            c                 0  2000.000000   \n",
       "\n",
       "   transacted_year  transacted_month  transacted_hour type_big region_big  \\\n",
       "0             2016                 6               13      미용업         서울   \n",
       "1             2016                 6               18      미용업         서울   \n",
       "2             2016                 6               18      미용업         서울   \n",
       "\n",
       "  region_detail  \n",
       "0           광진구  \n",
       "1           광진구  \n",
       "2           광진구  "
      ]
     },
     "execution_count": 5,
     "metadata": {},
     "output_type": "execute_result"
    }
   ],
   "source": [
    "df.head(3)"
   ]
  },
  {
   "cell_type": "markdown",
   "metadata": {},
   "source": [
    "### check amount outliers"
   ]
  },
  {
   "cell_type": "code",
   "execution_count": 6,
   "metadata": {},
   "outputs": [
    {
     "data": {
      "text/html": [
       "<div>\n",
       "<style scoped>\n",
       "    .dataframe tbody tr th:only-of-type {\n",
       "        vertical-align: middle;\n",
       "    }\n",
       "\n",
       "    .dataframe tbody tr th {\n",
       "        vertical-align: top;\n",
       "    }\n",
       "\n",
       "    .dataframe thead th {\n",
       "        text-align: right;\n",
       "    }\n",
       "</style>\n",
       "<table border=\"1\" class=\"dataframe\">\n",
       "  <thead>\n",
       "    <tr style=\"text-align: right;\">\n",
       "      <th></th>\n",
       "      <th>store_id</th>\n",
       "      <th>card_id</th>\n",
       "      <th>card_company</th>\n",
       "      <th>installment_term</th>\n",
       "      <th>amount</th>\n",
       "      <th>transacted_year</th>\n",
       "      <th>transacted_month</th>\n",
       "      <th>transacted_hour</th>\n",
       "      <th>type_big</th>\n",
       "      <th>region_big</th>\n",
       "      <th>region_detail</th>\n",
       "    </tr>\n",
       "  </thead>\n",
       "  <tbody>\n",
       "    <tr>\n",
       "      <th>1483951</th>\n",
       "      <td>538</td>\n",
       "      <td>1024807</td>\n",
       "      <td>a</td>\n",
       "      <td>0</td>\n",
       "      <td>5.571429e+06</td>\n",
       "      <td>2017</td>\n",
       "      <td>4</td>\n",
       "      <td>17</td>\n",
       "      <td>도매업</td>\n",
       "      <td>서울</td>\n",
       "      <td>광진구</td>\n",
       "    </tr>\n",
       "    <tr>\n",
       "      <th>1485651</th>\n",
       "      <td>538</td>\n",
       "      <td>1024762</td>\n",
       "      <td>e</td>\n",
       "      <td>0</td>\n",
       "      <td>5.045518e+06</td>\n",
       "      <td>2018</td>\n",
       "      <td>4</td>\n",
       "      <td>9</td>\n",
       "      <td>도매업</td>\n",
       "      <td>서울</td>\n",
       "      <td>광진구</td>\n",
       "    </tr>\n",
       "  </tbody>\n",
       "</table>\n",
       "</div>"
      ],
      "text/plain": [
       "         store_id  card_id card_company  installment_term        amount  \\\n",
       "1483951       538  1024807            a                 0  5.571429e+06   \n",
       "1485651       538  1024762            e                 0  5.045518e+06   \n",
       "\n",
       "         transacted_year  transacted_month  transacted_hour type_big  \\\n",
       "1483951             2017                 4               17      도매업   \n",
       "1485651             2018                 4                9      도매업   \n",
       "\n",
       "        region_big region_detail  \n",
       "1483951         서울           광진구  \n",
       "1485651         서울           광진구  "
      ]
     },
     "execution_count": 6,
     "metadata": {},
     "output_type": "execute_result"
    }
   ],
   "source": [
    "df[df['amount']>5000000]"
   ]
  },
  {
   "cell_type": "code",
   "execution_count": 7,
   "metadata": {},
   "outputs": [],
   "source": [
    "df = df.drop([1480622, 1482322])"
   ]
  },
  {
   "cell_type": "code",
   "execution_count": 8,
   "metadata": {},
   "outputs": [
    {
     "data": {
      "text/plain": [
       "(73100, 0.01114905246018103)"
      ]
     },
     "execution_count": 8,
     "metadata": {},
     "output_type": "execute_result"
    }
   ],
   "source": [
    "# 1% 정도는 음수이다\n",
    "len(df[df['amount']<0]), len(df[df['amount']<0])/len(df)"
   ]
  },
  {
   "cell_type": "code",
   "execution_count": 9,
   "metadata": {},
   "outputs": [],
   "source": [
    "df = df[df['amount']>0]"
   ]
  },
  {
   "cell_type": "markdown",
   "metadata": {},
   "source": [
    "### check transacted"
   ]
  },
  {
   "cell_type": "code",
   "execution_count": 10,
   "metadata": {},
   "outputs": [
    {
     "data": {
      "text/plain": [
       "(2016, 2019)"
      ]
     },
     "execution_count": 10,
     "metadata": {},
     "output_type": "execute_result"
    }
   ],
   "source": [
    "df['transacted_year'].min(), df['transacted_year'].max()"
   ]
  },
  {
   "cell_type": "code",
   "execution_count": 11,
   "metadata": {},
   "outputs": [
    {
     "data": {
      "text/plain": [
       "6"
      ]
     },
     "execution_count": 11,
     "metadata": {},
     "output_type": "execute_result"
    }
   ],
   "source": [
    "df[df['transacted_year']==2016]['transacted_month'].min()\n",
    "#2016년 6월부터 시작\n",
    "#3, 4, 5 -> 1\n",
    "#6, 7, 8 -> 2\n",
    "#9, 10, 11 -> 3\n",
    "#12, 1, 2 -> 4"
   ]
  },
  {
   "cell_type": "code",
   "execution_count": 12,
   "metadata": {},
   "outputs": [],
   "source": [
    "df['date_block_num'] = (df['transacted_year'] - 2016) * 12 + df['transacted_month'] - 6"
   ]
  },
  {
   "cell_type": "code",
   "execution_count": 13,
   "metadata": {},
   "outputs": [
    {
     "data": {
      "text/plain": [
       "<matplotlib.axes._subplots.AxesSubplot at 0x7f9547b8ac50>"
      ]
     },
     "execution_count": 13,
     "metadata": {},
     "output_type": "execute_result"
    },
    {
     "data": {
      "image/png": "[encoded data removed]",
      "text/plain": [
       "<Figure size 432x288 with 1 Axes>"
      ]
     },
     "metadata": {
      "needs_background": "light"
     },
     "output_type": "display_data"
    }
   ],
   "source": [
    "df.groupby('transacted_month').agg({'amount':'sum'}).plot()"
   ]
  },
  {
   "cell_type": "markdown",
   "metadata": {},
   "source": [
    "### check installment"
   ]
  },
  {
   "cell_type": "code",
   "execution_count": 14,
   "metadata": {},
   "outputs": [],
   "source": [
    "def check_point(val):\n",
    "    if val>=60:\n",
    "        return val-60\n",
    "    return 0"
   ]
  },
  {
   "cell_type": "code",
   "execution_count": 15,
   "metadata": {},
   "outputs": [],
   "source": [
    "def check_installment(val):\n",
    "    if val<=60:\n",
    "        return val\n",
    "    return val-60"
   ]
  },
  {
   "cell_type": "code",
   "execution_count": 16,
   "metadata": {},
   "outputs": [],
   "source": [
    "df['point_term'] = df['installment_term'].apply(check_point)"
   ]
  },
  {
   "cell_type": "code",
   "execution_count": 17,
   "metadata": {},
   "outputs": [],
   "source": [
    "df['installment_term'] = df['installment_term'].apply(check_installment)"
   ]
  },
  {
   "cell_type": "code",
   "execution_count": 18,
   "metadata": {},
   "outputs": [],
   "source": [
    "season_map = {3: 1, 4: 1, 5: 1,\n",
    "             6: 2, 7: 2, 8: 2,\n",
    "             9: 3, 10: 3, 11: 3,\n",
    "             12: 4, 1: 4, 2: 4}\n",
    "df['season_block'] = df['transacted_month'].replace(season_map)"
   ]
  },
  {
   "cell_type": "code",
   "execution_count": 19,
   "metadata": {
    "scrolled": true
   },
   "outputs": [
    {
     "data": {
      "text/html": [
       "<div>\n",
       "<style scoped>\n",
       "    .dataframe tbody tr th:only-of-type {\n",
       "        vertical-align: middle;\n",
       "    }\n",
       "\n",
       "    .dataframe tbody tr th {\n",
       "        vertical-align: top;\n",
       "    }\n",
       "\n",
       "    .dataframe thead th {\n",
       "        text-align: right;\n",
       "    }\n",
       "</style>\n",
       "<table border=\"1\" class=\"dataframe\">\n",
       "  <thead>\n",
       "    <tr style=\"text-align: right;\">\n",
       "      <th></th>\n",
       "      <th>store_id</th>\n",
       "      <th>card_id</th>\n",
       "      <th>card_company</th>\n",
       "      <th>installment_term</th>\n",
       "      <th>amount</th>\n",
       "      <th>transacted_year</th>\n",
       "      <th>transacted_month</th>\n",
       "      <th>transacted_hour</th>\n",
       "      <th>type_big</th>\n",
       "      <th>region_big</th>\n",
       "      <th>region_detail</th>\n",
       "      <th>date_block_num</th>\n",
       "      <th>point_term</th>\n",
       "      <th>season_block</th>\n",
       "    </tr>\n",
       "  </thead>\n",
       "  <tbody>\n",
       "    <tr>\n",
       "      <th>0</th>\n",
       "      <td>0</td>\n",
       "      <td>0</td>\n",
       "      <td>b</td>\n",
       "      <td>0</td>\n",
       "      <td>1857.142857</td>\n",
       "      <td>2016</td>\n",
       "      <td>6</td>\n",
       "      <td>13</td>\n",
       "      <td>미용업</td>\n",
       "      <td>서울</td>\n",
       "      <td>광진구</td>\n",
       "      <td>0</td>\n",
       "      <td>0</td>\n",
       "      <td>2</td>\n",
       "    </tr>\n",
       "    <tr>\n",
       "      <th>1</th>\n",
       "      <td>0</td>\n",
       "      <td>1</td>\n",
       "      <td>h</td>\n",
       "      <td>0</td>\n",
       "      <td>857.142857</td>\n",
       "      <td>2016</td>\n",
       "      <td>6</td>\n",
       "      <td>18</td>\n",
       "      <td>미용업</td>\n",
       "      <td>서울</td>\n",
       "      <td>광진구</td>\n",
       "      <td>0</td>\n",
       "      <td>0</td>\n",
       "      <td>2</td>\n",
       "    </tr>\n",
       "    <tr>\n",
       "      <th>2</th>\n",
       "      <td>0</td>\n",
       "      <td>2</td>\n",
       "      <td>c</td>\n",
       "      <td>0</td>\n",
       "      <td>2000.000000</td>\n",
       "      <td>2016</td>\n",
       "      <td>6</td>\n",
       "      <td>18</td>\n",
       "      <td>미용업</td>\n",
       "      <td>서울</td>\n",
       "      <td>광진구</td>\n",
       "      <td>0</td>\n",
       "      <td>0</td>\n",
       "      <td>2</td>\n",
       "    </tr>\n",
       "  </tbody>\n",
       "</table>\n",
       "</div>"
      ],
      "text/plain": [
       "   store_id  card_id card_company  installment_term       amount  \\\n",
       "0         0        0            b                 0  1857.142857   \n",
       "1         0        1            h                 0   857.142857   \n",
       "2         0        2            c                 0  2000.000000   \n",
       "\n",
       "   transacted_year  transacted_month  transacted_hour type_big region_big  \\\n",
       "0             2016                 6               13      미용업         서울   \n",
       "1             2016                 6               18      미용업         서울   \n",
       "2             2016                 6               18      미용업         서울   \n",
       "\n",
       "  region_detail  date_block_num  point_term  season_block  \n",
       "0           광진구               0           0             2  \n",
       "1           광진구               0           0             2  \n",
       "2           광진구               0           0             2  "
      ]
     },
     "execution_count": 19,
     "metadata": {},
     "output_type": "execute_result"
    }
   ],
   "source": [
    "df.head(3)"
   ]
  },
  {
   "cell_type": "code",
   "execution_count": 20,
   "metadata": {},
   "outputs": [],
   "source": [
    "def add_noise(series, noise_level):\n",
    "    return series * (1 + noise_level * np.random.randn(len(series)))\n",
    "\n",
    "def target_encode(trn_series=None, \n",
    "                  tst_series=None, \n",
    "                  target=None, \n",
    "                  min_samples_leaf=100, \n",
    "                  smoothing=10,\n",
    "                  noise_level=0.01):\n",
    "    \"\"\"\n",
    "    Smoothing is computed like in the following paper by Daniele Micci-Barreca\n",
    "    https://kaggle2.blob.core.windows.net/forum-message-attachments/225952/7441/high%20cardinality%20categoricals.pdf\n",
    "    trn_series : training categorical feature as a pd.Series\n",
    "    tst_series : test categorical feature as a pd.Series\n",
    "    target : target data as a pd.Series\n",
    "    min_samples_leaf (int) : minimum samples to take category average into account\n",
    "    smoothing (int) : smoothing effect to balance categorical average vs prior  \n",
    "    \"\"\" \n",
    "    assert len(trn_series) == len(target)\n",
    "    assert trn_series.name == tst_series.name\n",
    "    temp = pd.concat([trn_series, target], axis=1)\n",
    "    # Compute target mean \n",
    "    averages = temp.groupby(by=trn_series.name)[target.name].agg([\"mean\", \"count\"])\n",
    "    # Compute smoothing\n",
    "    smoothing = 1 / (1 + np.exp(-(averages[\"count\"] - min_samples_leaf) / smoothing))\n",
    "    # Apply average function to all target data\n",
    "    prior = target.mean()\n",
    "    # The bigger the count the less full_avg is taken into account\n",
    "    averages[target.name] = prior * (1 - smoothing) + averages[\"mean\"] * smoothing\n",
    "    averages.drop([\"mean\", \"count\"], axis=1, inplace=True)\n",
    "    # Apply averages to trn and tst series\n",
    "    ft_trn_series = pd.merge(\n",
    "        trn_series.to_frame(trn_series.name),\n",
    "        averages.reset_index().rename(columns={'index': target.name, target.name: 'average'}),\n",
    "        on=trn_series.name,\n",
    "        how='left')['average'].rename(trn_series.name + '_mean').fillna(prior)\n",
    "    # pd.merge does not keep the index so restore it\n",
    "    ft_trn_series.index = trn_series.index \n",
    "    ft_tst_series = pd.merge(\n",
    "        tst_series.to_frame(tst_series.name),\n",
    "        averages.reset_index().rename(columns={'index': target.name, target.name: 'average'}),\n",
    "        on=tst_series.name,\n",
    "        how='left')['average'].rename(trn_series.name + '_mean').fillna(prior)\n",
    "    # pd.merge does not keep the index so restore it\n",
    "    ft_tst_series.index = tst_series.index\n",
    "    return add_noise(ft_trn_series, noise_level), add_noise(ft_tst_series, noise_level)"
   ]
  },
  {
   "cell_type": "code",
   "execution_count": 21,
   "metadata": {},
   "outputs": [
    {
     "data": {
      "text/plain": [
       "8.541361808776855"
      ]
     },
     "execution_count": 21,
     "metadata": {},
     "output_type": "execute_result"
    }
   ],
   "source": [
    "ts = time.time()\n",
    "matrix = []\n",
    "cols = ['store_id', 'date_block_num']\n",
    "for i in df['store_id'].unique():\n",
    "    matrix.append(np.array(list(product(\n",
    "                                        [i],\n",
    "                                        df[df['store_id']==i]['date_block_num'].unique()\n",
    "                                       )), dtype='int16'))\n",
    "\n",
    "matrix = pd.DataFrame(np.vstack(matrix), columns=cols)\n",
    "matrix['date_block_num'] = matrix['date_block_num'].astype(np.int16)\n",
    "matrix['store_id'] = matrix['store_id'].astype(np.int16)\n",
    "time.time() - ts"
   ]
  },
  {
   "cell_type": "markdown",
   "metadata": {},
   "source": [
    "### check amount"
   ]
  },
  {
   "cell_type": "code",
   "execution_count": null,
   "metadata": {},
   "outputs": [],
   "source": []
  },
  {
   "cell_type": "code",
   "execution_count": 22,
   "metadata": {},
   "outputs": [],
   "source": [
    "group = df.groupby(['store_id','date_block_num', 'card_company'])['card_company'].size().unstack(fill_value=0).reset_index(False)\n",
    "matrix = pd.merge(matrix, group, how='left', on=['store_id', 'date_block_num'])"
   ]
  },
  {
   "cell_type": "code",
   "execution_count": 23,
   "metadata": {},
   "outputs": [
    {
     "data": {
      "text/html": [
       "<div>\n",
       "<style scoped>\n",
       "    .dataframe tbody tr th:only-of-type {\n",
       "        vertical-align: middle;\n",
       "    }\n",
       "\n",
       "    .dataframe tbody tr th {\n",
       "        vertical-align: top;\n",
       "    }\n",
       "\n",
       "    .dataframe thead th {\n",
       "        text-align: right;\n",
       "    }\n",
       "</style>\n",
       "<table border=\"1\" class=\"dataframe\">\n",
       "  <thead>\n",
       "    <tr style=\"text-align: right;\">\n",
       "      <th></th>\n",
       "      <th>store_id</th>\n",
       "      <th>date_block_num</th>\n",
       "      <th>card_company</th>\n",
       "      <th>amount</th>\n",
       "    </tr>\n",
       "  </thead>\n",
       "  <tbody>\n",
       "    <tr>\n",
       "      <th>0</th>\n",
       "      <td>0</td>\n",
       "      <td>0</td>\n",
       "      <td>a</td>\n",
       "      <td>236285.714286</td>\n",
       "    </tr>\n",
       "    <tr>\n",
       "      <th>1</th>\n",
       "      <td>0</td>\n",
       "      <td>0</td>\n",
       "      <td>b</td>\n",
       "      <td>150285.714286</td>\n",
       "    </tr>\n",
       "    <tr>\n",
       "      <th>2</th>\n",
       "      <td>0</td>\n",
       "      <td>0</td>\n",
       "      <td>c</td>\n",
       "      <td>168571.428571</td>\n",
       "    </tr>\n",
       "  </tbody>\n",
       "</table>\n",
       "</div>"
      ],
      "text/plain": [
       "   store_id  date_block_num card_company         amount\n",
       "0         0               0            a  236285.714286\n",
       "1         0               0            b  150285.714286\n",
       "2         0               0            c  168571.428571"
      ]
     },
     "execution_count": 23,
     "metadata": {},
     "output_type": "execute_result"
    }
   ],
   "source": [
    "group = df.groupby(['store_id', 'date_block_num', 'card_company']).agg({'amount':'sum'}).reset_index()\n",
    "group.head(3)"
   ]
  },
  {
   "cell_type": "code",
   "execution_count": 24,
   "metadata": {},
   "outputs": [],
   "source": [
    "for company in ['a', 'b', 'c', 'd', 'e', 'f', 'g', 'h']:\n",
    "    group_tmp = group[group['card_company']==company][['store_id', 'date_block_num', 'amount']]\n",
    "    group_tmp.columns = ['store_id', 'date_block_num', 'card_company_{}_avg'.format(company)]\n",
    "    matrix = pd.merge(matrix, group_tmp, how='left', on=['store_id', 'date_block_num'])"
   ]
  },
  {
   "cell_type": "code",
   "execution_count": 25,
   "metadata": {},
   "outputs": [],
   "source": [
    "group = df.groupby(['store_id', 'date_block_num']).agg({'installment_term':'sum'}).reset_index()\n",
    "matrix = pd.merge(matrix, group, how='left', on=['store_id', 'date_block_num'])\n",
    "\n",
    "group = df.groupby(['store_id', 'date_block_num']).agg({'point_term':'sum'}).reset_index()\n",
    "matrix = pd.merge(matrix, group, how='left', on=['store_id', 'date_block_num'])"
   ]
  },
  {
   "cell_type": "code",
   "execution_count": 26,
   "metadata": {},
   "outputs": [],
   "source": [
    "group = df[df['installment_term']>0].groupby(['store_id', 'date_block_num']).agg({'amount':'sum'})\n",
    "group.columns = ['installment_term_total']\n",
    "group = group.reset_index()\n",
    "matrix = pd.merge(matrix, group, how='left', on=['store_id', 'date_block_num'])\n",
    "\n",
    "group = df[df['point_term']>0].groupby(['store_id', 'date_block_num']).agg({'amount':'sum'})\n",
    "group.columns = ['point_term_total']\n",
    "group = group.reset_index()\n",
    "matrix = pd.merge(matrix, group, how='left', on=['store_id', 'date_block_num'])\n",
    "           "
   ]
  },
  {
   "cell_type": "code",
   "execution_count": 27,
   "metadata": {},
   "outputs": [],
   "source": [
    "matrix['amount_month_sum'] = df.groupby(['store_id', 'date_block_num']).agg({'amount':'sum'}, as_index=False).values\n",
    "#matrix['amount_month_mean'] = df.groupby(['store_id', 'date_block_num']).agg({'amount':'mean'}, as_index=False).values"
   ]
  },
  {
   "cell_type": "code",
   "execution_count": 28,
   "metadata": {},
   "outputs": [],
   "source": [
    "def merge_matrix(key, target):\n",
    "    group = df.groupby([key]).agg({target:pd.Series.unique}, as_index=True)\n",
    "    group[key] = group.index\n",
    "    return pd.merge(matrix, group, how='left', on=[key])"
   ]
  },
  {
   "cell_type": "code",
   "execution_count": 29,
   "metadata": {
    "scrolled": false
   },
   "outputs": [],
   "source": [
    "matrix = merge_matrix(key='store_id', target='type_big')"
   ]
  },
  {
   "cell_type": "code",
   "execution_count": 30,
   "metadata": {},
   "outputs": [],
   "source": [
    "matrix = merge_matrix(key='date_block_num', target='season_block')"
   ]
  },
  {
   "cell_type": "code",
   "execution_count": 31,
   "metadata": {},
   "outputs": [],
   "source": [
    "matrix = merge_matrix(key='date_block_num', target='transacted_year')"
   ]
  },
  {
   "cell_type": "code",
   "execution_count": 32,
   "metadata": {},
   "outputs": [],
   "source": [
    "matrix = merge_matrix(key='date_block_num', target='transacted_month')"
   ]
  },
  {
   "cell_type": "code",
   "execution_count": 33,
   "metadata": {},
   "outputs": [],
   "source": [
    "matrix = merge_matrix(key='store_id', target='region_big')"
   ]
  },
  {
   "cell_type": "code",
   "execution_count": 34,
   "metadata": {},
   "outputs": [],
   "source": [
    "matrix = merge_matrix(key='store_id', target='region_detail')"
   ]
  },
  {
   "cell_type": "code",
   "execution_count": 35,
   "metadata": {},
   "outputs": [],
   "source": [
    "matrix['type_big'].fillna('기타', inplace=True)"
   ]
  },
  {
   "cell_type": "code",
   "execution_count": 36,
   "metadata": {},
   "outputs": [
    {
     "data": {
      "text/html": [
       "<div>\n",
       "<style scoped>\n",
       "    .dataframe tbody tr th:only-of-type {\n",
       "        vertical-align: middle;\n",
       "    }\n",
       "\n",
       "    .dataframe tbody tr th {\n",
       "        vertical-align: top;\n",
       "    }\n",
       "\n",
       "    .dataframe thead th {\n",
       "        text-align: right;\n",
       "    }\n",
       "</style>\n",
       "<table border=\"1\" class=\"dataframe\">\n",
       "  <thead>\n",
       "    <tr style=\"text-align: right;\">\n",
       "      <th></th>\n",
       "      <th>store_id</th>\n",
       "      <th>date_block_num</th>\n",
       "      <th>a</th>\n",
       "      <th>b</th>\n",
       "      <th>c</th>\n",
       "      <th>d</th>\n",
       "      <th>e</th>\n",
       "      <th>f</th>\n",
       "      <th>g</th>\n",
       "      <th>h</th>\n",
       "      <th>...</th>\n",
       "      <th>point_term</th>\n",
       "      <th>installment_term_total</th>\n",
       "      <th>point_term_total</th>\n",
       "      <th>amount_month_sum</th>\n",
       "      <th>type_big</th>\n",
       "      <th>season_block</th>\n",
       "      <th>transacted_year</th>\n",
       "      <th>transacted_month</th>\n",
       "      <th>region_big</th>\n",
       "      <th>region_detail</th>\n",
       "    </tr>\n",
       "  </thead>\n",
       "  <tbody>\n",
       "    <tr>\n",
       "      <th>60225</th>\n",
       "      <td>2136</td>\n",
       "      <td>30</td>\n",
       "      <td>108</td>\n",
       "      <td>49</td>\n",
       "      <td>56</td>\n",
       "      <td>128</td>\n",
       "      <td>27</td>\n",
       "      <td>22</td>\n",
       "      <td>6</td>\n",
       "      <td>4</td>\n",
       "      <td>...</td>\n",
       "      <td>0</td>\n",
       "      <td>NaN</td>\n",
       "      <td>NaN</td>\n",
       "      <td>2.452500e+06</td>\n",
       "      <td>주점업</td>\n",
       "      <td>4</td>\n",
       "      <td>2018</td>\n",
       "      <td>12</td>\n",
       "      <td>제주</td>\n",
       "      <td>제주시</td>\n",
       "    </tr>\n",
       "    <tr>\n",
       "      <th>60226</th>\n",
       "      <td>2136</td>\n",
       "      <td>31</td>\n",
       "      <td>78</td>\n",
       "      <td>50</td>\n",
       "      <td>30</td>\n",
       "      <td>98</td>\n",
       "      <td>15</td>\n",
       "      <td>15</td>\n",
       "      <td>9</td>\n",
       "      <td>1</td>\n",
       "      <td>...</td>\n",
       "      <td>0</td>\n",
       "      <td>9428.571429</td>\n",
       "      <td>NaN</td>\n",
       "      <td>1.879500e+06</td>\n",
       "      <td>주점업</td>\n",
       "      <td>4</td>\n",
       "      <td>2019</td>\n",
       "      <td>1</td>\n",
       "      <td>제주</td>\n",
       "      <td>제주시</td>\n",
       "    </tr>\n",
       "    <tr>\n",
       "      <th>60227</th>\n",
       "      <td>2136</td>\n",
       "      <td>32</td>\n",
       "      <td>102</td>\n",
       "      <td>68</td>\n",
       "      <td>39</td>\n",
       "      <td>109</td>\n",
       "      <td>29</td>\n",
       "      <td>12</td>\n",
       "      <td>10</td>\n",
       "      <td>2</td>\n",
       "      <td>...</td>\n",
       "      <td>0</td>\n",
       "      <td>NaN</td>\n",
       "      <td>NaN</td>\n",
       "      <td>2.266429e+06</td>\n",
       "      <td>주점업</td>\n",
       "      <td>4</td>\n",
       "      <td>2019</td>\n",
       "      <td>2</td>\n",
       "      <td>제주</td>\n",
       "      <td>제주시</td>\n",
       "    </tr>\n",
       "  </tbody>\n",
       "</table>\n",
       "<p>3 rows × 29 columns</p>\n",
       "</div>"
      ],
      "text/plain": [
       "       store_id  date_block_num    a   b   c    d   e   f   g  h  \\\n",
       "60225      2136              30  108  49  56  128  27  22   6  4   \n",
       "60226      2136              31   78  50  30   98  15  15   9  1   \n",
       "60227      2136              32  102  68  39  109  29  12  10  2   \n",
       "\n",
       "           ...        point_term  installment_term_total  point_term_total  \\\n",
       "60225      ...                 0                     NaN               NaN   \n",
       "60226      ...                 0             9428.571429               NaN   \n",
       "60227      ...                 0                     NaN               NaN   \n",
       "\n",
       "       amount_month_sum  type_big  season_block  transacted_year  \\\n",
       "60225      2.452500e+06       주점업             4             2018   \n",
       "60226      1.879500e+06       주점업             4             2019   \n",
       "60227      2.266429e+06       주점업             4             2019   \n",
       "\n",
       "       transacted_month  region_big  region_detail  \n",
       "60225                12          제주            제주시  \n",
       "60226                 1          제주            제주시  \n",
       "60227                 2          제주            제주시  \n",
       "\n",
       "[3 rows x 29 columns]"
      ]
     },
     "execution_count": 36,
     "metadata": {},
     "output_type": "execute_result"
    }
   ],
   "source": [
    "matrix.tail(3)"
   ]
  },
  {
   "cell_type": "code",
   "execution_count": 37,
   "metadata": {},
   "outputs": [],
   "source": [
    "for store_id in matrix['store_id'].unique():\n",
    "    tmp_type = matrix[matrix['store_id']==store_id]['type_big'].unique()[0]\n",
    "    tmp_region_big = matrix[matrix['store_id']==store_id]['region_big'].unique()[0]\n",
    "    tmp_region_detail = matrix[matrix['store_id']==store_id]['region_detail'].unique()[0]\n",
    "    \n",
    "    for step, block in enumerate([33, 34, 35]):\n",
    "        matrix = matrix.append(pd.DataFrame({'store_id': [store_id],\n",
    "                                            'date_block_num': [block],\n",
    "                                            'amount_month_sum': [np.nan],\n",
    "                                            #'amount_month_mean': [np.nan],\n",
    "                                            'type_big': [tmp_type],\n",
    "                                            'season_block': [1],\n",
    "                                            'transacted_year': [2019],\n",
    "                                            'transacted_month': [step+3],\n",
    "                                            'region_big': [tmp_region_big],\n",
    "                                            'region_detail': [tmp_region_detail]}))\n",
    "    "
   ]
  },
  {
   "cell_type": "code",
   "execution_count": 38,
   "metadata": {
    "scrolled": true
   },
   "outputs": [
    {
     "data": {
      "text/html": [
       "<div>\n",
       "<style scoped>\n",
       "    .dataframe tbody tr th:only-of-type {\n",
       "        vertical-align: middle;\n",
       "    }\n",
       "\n",
       "    .dataframe tbody tr th {\n",
       "        vertical-align: top;\n",
       "    }\n",
       "\n",
       "    .dataframe thead th {\n",
       "        text-align: right;\n",
       "    }\n",
       "</style>\n",
       "<table border=\"1\" class=\"dataframe\">\n",
       "  <thead>\n",
       "    <tr style=\"text-align: right;\">\n",
       "      <th></th>\n",
       "      <th>a</th>\n",
       "      <th>amount_month_sum</th>\n",
       "      <th>b</th>\n",
       "      <th>c</th>\n",
       "      <th>card_company_a_avg</th>\n",
       "      <th>card_company_b_avg</th>\n",
       "      <th>card_company_c_avg</th>\n",
       "      <th>card_company_d_avg</th>\n",
       "      <th>card_company_e_avg</th>\n",
       "      <th>card_company_f_avg</th>\n",
       "      <th>...</th>\n",
       "      <th>installment_term_total</th>\n",
       "      <th>point_term</th>\n",
       "      <th>point_term_total</th>\n",
       "      <th>region_big</th>\n",
       "      <th>region_detail</th>\n",
       "      <th>season_block</th>\n",
       "      <th>store_id</th>\n",
       "      <th>transacted_month</th>\n",
       "      <th>transacted_year</th>\n",
       "      <th>type_big</th>\n",
       "    </tr>\n",
       "  </thead>\n",
       "  <tbody>\n",
       "    <tr>\n",
       "      <th>0</th>\n",
       "      <td>NaN</td>\n",
       "      <td>NaN</td>\n",
       "      <td>NaN</td>\n",
       "      <td>NaN</td>\n",
       "      <td>NaN</td>\n",
       "      <td>NaN</td>\n",
       "      <td>NaN</td>\n",
       "      <td>NaN</td>\n",
       "      <td>NaN</td>\n",
       "      <td>NaN</td>\n",
       "      <td>...</td>\n",
       "      <td>NaN</td>\n",
       "      <td>NaN</td>\n",
       "      <td>NaN</td>\n",
       "      <td>제주</td>\n",
       "      <td>제주시</td>\n",
       "      <td>1</td>\n",
       "      <td>2136</td>\n",
       "      <td>3</td>\n",
       "      <td>2019</td>\n",
       "      <td>주점업</td>\n",
       "    </tr>\n",
       "    <tr>\n",
       "      <th>0</th>\n",
       "      <td>NaN</td>\n",
       "      <td>NaN</td>\n",
       "      <td>NaN</td>\n",
       "      <td>NaN</td>\n",
       "      <td>NaN</td>\n",
       "      <td>NaN</td>\n",
       "      <td>NaN</td>\n",
       "      <td>NaN</td>\n",
       "      <td>NaN</td>\n",
       "      <td>NaN</td>\n",
       "      <td>...</td>\n",
       "      <td>NaN</td>\n",
       "      <td>NaN</td>\n",
       "      <td>NaN</td>\n",
       "      <td>제주</td>\n",
       "      <td>제주시</td>\n",
       "      <td>1</td>\n",
       "      <td>2136</td>\n",
       "      <td>4</td>\n",
       "      <td>2019</td>\n",
       "      <td>주점업</td>\n",
       "    </tr>\n",
       "    <tr>\n",
       "      <th>0</th>\n",
       "      <td>NaN</td>\n",
       "      <td>NaN</td>\n",
       "      <td>NaN</td>\n",
       "      <td>NaN</td>\n",
       "      <td>NaN</td>\n",
       "      <td>NaN</td>\n",
       "      <td>NaN</td>\n",
       "      <td>NaN</td>\n",
       "      <td>NaN</td>\n",
       "      <td>NaN</td>\n",
       "      <td>...</td>\n",
       "      <td>NaN</td>\n",
       "      <td>NaN</td>\n",
       "      <td>NaN</td>\n",
       "      <td>제주</td>\n",
       "      <td>제주시</td>\n",
       "      <td>1</td>\n",
       "      <td>2136</td>\n",
       "      <td>5</td>\n",
       "      <td>2019</td>\n",
       "      <td>주점업</td>\n",
       "    </tr>\n",
       "  </tbody>\n",
       "</table>\n",
       "<p>3 rows × 29 columns</p>\n",
       "</div>"
      ],
      "text/plain": [
       "    a  amount_month_sum   b   c  card_company_a_avg  card_company_b_avg  \\\n",
       "0 NaN               NaN NaN NaN                 NaN                 NaN   \n",
       "0 NaN               NaN NaN NaN                 NaN                 NaN   \n",
       "0 NaN               NaN NaN NaN                 NaN                 NaN   \n",
       "\n",
       "   card_company_c_avg  card_company_d_avg  card_company_e_avg  \\\n",
       "0                 NaN                 NaN                 NaN   \n",
       "0                 NaN                 NaN                 NaN   \n",
       "0                 NaN                 NaN                 NaN   \n",
       "\n",
       "   card_company_f_avg    ...     installment_term_total  point_term  \\\n",
       "0                 NaN    ...                        NaN         NaN   \n",
       "0                 NaN    ...                        NaN         NaN   \n",
       "0                 NaN    ...                        NaN         NaN   \n",
       "\n",
       "   point_term_total  region_big  region_detail  season_block  store_id  \\\n",
       "0               NaN          제주            제주시             1      2136   \n",
       "0               NaN          제주            제주시             1      2136   \n",
       "0               NaN          제주            제주시             1      2136   \n",
       "\n",
       "   transacted_month  transacted_year  type_big  \n",
       "0                 3             2019       주점업  \n",
       "0                 4             2019       주점업  \n",
       "0                 5             2019       주점업  \n",
       "\n",
       "[3 rows x 29 columns]"
      ]
     },
     "execution_count": 38,
     "metadata": {},
     "output_type": "execute_result"
    }
   ],
   "source": [
    "matrix.tail(3)"
   ]
  },
  {
   "cell_type": "code",
   "execution_count": 45,
   "metadata": {},
   "outputs": [],
   "source": [
    "# Target with default parameters\n",
    "import category_encoders as ce \n",
    "ce_target = ce.TargetEncoder(cols = ['region_big'])\n",
    "ce_target.fit(matrix, matrix['amount_month_sum'])\n",
    "matrix['encoding_region_big'] = ce_target.transform(matrix, matrix['amount_month_sum'])['region_big']\n",
    "\n",
    "ce_target = ce.TargetEncoder(cols = ['region_detail'])\n",
    "ce_target.fit(matrix, matrix['amount_month_sum'])\n",
    "matrix['encoding_region_detail'] = ce_target.transform(matrix, matrix['amount_month_sum'])['region_detail']\n",
    "\n",
    "ce_target = ce.TargetEncoder(cols = ['type_big'])\n",
    "ce_target.fit(matrix, matrix['amount_month_sum'])\n",
    "matrix['encoding_type_big'] = ce_target.transform(matrix, matrix['amount_month_sum'])['type_big']"
   ]
  },
  {
   "cell_type": "code",
   "execution_count": null,
   "metadata": {},
   "outputs": [],
   "source": [
    "#matrix['encoding_region_big'], _ = target_encode(matrix['region_big'], matrix['region_big'], matrix['amount_month_sum'])\n",
    "#matrix['encoding_region_detail'], _ = target_encode(matrix['region_detail'], matrix['region_detail'], matrix['amount_month_sum'])\n",
    "#matrix['encoding_type_big'], _ = target_encode(matrix['type_big'], matrix['type_big'], matrix['amount_month_sum'])"
   ]
  },
  {
   "cell_type": "code",
   "execution_count": null,
   "metadata": {},
   "outputs": [],
   "source": [
    "#matrix['amount_month_sum'] = np.log1p(matrix['amount_month_sum'])"
   ]
  },
  {
   "cell_type": "code",
   "execution_count": null,
   "metadata": {},
   "outputs": [],
   "source": [
    "matrix.head(3)"
   ]
  },
  {
   "cell_type": "code",
   "execution_count": 46,
   "metadata": {
    "scrolled": true
   },
   "outputs": [],
   "source": [
    "for col in matrix.select_dtypes('float64').columns:\n",
    "    if col != 'amount_month_sum':\n",
    "        matrix[col] = matrix[col].astype(np.float32)\n",
    "for col in ['date_block_num', 'season_block', 'store_id', 'transacted_month', 'transacted_year']:\n",
    "    matrix[col] = matrix[col].astype(np.int16)"
   ]
  },
  {
   "cell_type": "code",
   "execution_count": null,
   "metadata": {},
   "outputs": [],
   "source": [
    "matrix.head(3)"
   ]
  },
  {
   "cell_type": "code",
   "execution_count": 47,
   "metadata": {},
   "outputs": [],
   "source": [
    "def lag_feature(data, lags, col):\n",
    "    tmp = data[['date_block_num', 'store_id', col]]\n",
    "    for i in lags:\n",
    "        shifted = tmp.copy()\n",
    "        shifted.columns = ['date_block_num', 'store_id',\n",
    "                          col+'_lag_'+str(i)]\n",
    "        shifted['date_block_num'] += i\n",
    "        data = pd.merge(data, shifted, on=['date_block_num', 'store_id'],\n",
    "                          how='left')\n",
    "    return data"
   ]
  },
  {
   "cell_type": "code",
   "execution_count": null,
   "metadata": {},
   "outputs": [],
   "source": []
  },
  {
   "cell_type": "code",
   "execution_count": 48,
   "metadata": {},
   "outputs": [],
   "source": [
    "lags_dist = [3, 4, 5, 6, 12, 13, 14, 24, 25]"
   ]
  },
  {
   "cell_type": "code",
   "execution_count": 49,
   "metadata": {},
   "outputs": [
    {
     "name": "stdout",
     "output_type": "stream",
     "text": [
      "finish\n"
     ]
    }
   ],
   "source": [
    "#해당 타입의 월별 평균 매출\n",
    "group = matrix.groupby(['date_block_num',\n",
    "                        'type_big']).agg({'amount_month_sum': ['mean']})\n",
    "group.columns = ['date_type_big_avg_amount']\n",
    "group.reset_index(inplace=True)\n",
    "\n",
    "matrix = pd.merge(matrix, group, on=['date_block_num',\n",
    "                        'type_big'], how='left')\n",
    "matrix['date_type_big_avg_amount'] = matrix['date_type_big_avg_amount'].astype(np.float16)\n",
    "\n",
    "matrix = lag_feature(matrix, lags_dist, 'date_type_big_avg_amount')\n",
    "matrix.drop(['date_type_big_avg_amount'], axis=1, inplace=True)\n",
    "print('finish')"
   ]
  },
  {
   "cell_type": "code",
   "execution_count": 50,
   "metadata": {},
   "outputs": [
    {
     "name": "stdout",
     "output_type": "stream",
     "text": [
      "finish\n"
     ]
    }
   ],
   "source": [
    "#해당 지역의 월별 평균 매출 1\n",
    "group = matrix.groupby(['date_block_num',\n",
    "                        'region_big']).agg({'amount_month_sum': ['mean']})\n",
    "group.columns = ['date_region_big_avg_amount']\n",
    "group.reset_index(inplace=True)\n",
    "\n",
    "matrix = pd.merge(matrix, group, on=['date_block_num',\n",
    "                        'region_big'], how='left')\n",
    "matrix['date_region_big_avg_amount'] = matrix['date_region_big_avg_amount'].astype(np.float16)\n",
    "matrix = lag_feature(matrix, lags_dist, 'date_region_big_avg_amount')\n",
    "matrix.drop(['date_region_big_avg_amount'], axis=1, inplace=True)\n",
    "print('finish')"
   ]
  },
  {
   "cell_type": "code",
   "execution_count": 51,
   "metadata": {},
   "outputs": [
    {
     "name": "stdout",
     "output_type": "stream",
     "text": [
      "finish\n"
     ]
    }
   ],
   "source": [
    " #해당 지역의 월별 평균 매출 2\n",
    "group = matrix.groupby(['date_block_num',\n",
    "                        'region_detail']).agg({'amount_month_sum': ['mean']})\n",
    "group.columns = ['date_region_detail_avg_amount']\n",
    "group.reset_index(inplace=True)\n",
    "\n",
    "matrix = pd.merge(matrix, group, on=['date_block_num',\n",
    "                        'region_detail'], how='left')\n",
    "matrix['date_region_detail_avg_amount'] = matrix['date_region_detail_avg_amount'].astype(np.float16)\n",
    "matrix = lag_feature(matrix, lags_dist, 'date_region_detail_avg_amount')\n",
    "matrix.drop(['date_region_detail_avg_amount'], axis=1, inplace=True)\n",
    "print('finish')"
   ]
  },
  {
   "cell_type": "code",
   "execution_count": 52,
   "metadata": {},
   "outputs": [],
   "source": [
    "#가게의 평균 판매 금액에서 lag 달의 판매 %\n",
    "group = matrix.groupby(['store_id']).agg({'amount_month_sum':['mean']})\n",
    "group.columns = ['amount_avg_store_id']\n",
    "group.reset_index(inplace=True)\n",
    "\n",
    "matrix = pd.merge(matrix, group, on=['store_id'], how='left')\n",
    "matrix['amount_avg_store_id'] = matrix['amount_avg_store_id'].astype(np.float32)\n",
    "\n",
    "matrix['delta_amount_avg'] =( matrix['amount_month_sum'] - matrix['amount_avg_store_id']) / matrix['amount_avg_store_id']\n",
    "\n",
    "matrix = matrix.drop(['amount_avg_store_id'], axis=1)"
   ]
  },
  {
   "cell_type": "code",
   "execution_count": 53,
   "metadata": {},
   "outputs": [],
   "source": [
    "#이전 매출\n",
    "lag_features = ['delta_amount_avg', 'amount_month_sum', 'a', 'b', 'c', 'd', 'e', 'f', 'g', 'h']\n",
    "for feature in lag_features:\n",
    "    matrix = lag_feature(data=matrix, lags=lags_dist, col=feature )"
   ]
  },
  {
   "cell_type": "code",
   "execution_count": 54,
   "metadata": {},
   "outputs": [],
   "source": [
    "for company in ['a', 'b', 'c', 'd', 'e', 'f', 'g', 'h']:\n",
    "    company = 'card_company_{}_avg'.format(company)\n",
    "    matrix = lag_feature(data=matrix, lags=lags_dist, col=company)\n",
    "    matrix = matrix.drop([company], axis=1)"
   ]
  },
  {
   "cell_type": "code",
   "execution_count": 55,
   "metadata": {},
   "outputs": [],
   "source": [
    "for company in ['installment_term', 'point_term']:\n",
    "    matrix = lag_feature(data=matrix, lags=lags_dist, col=company)\n",
    "    matrix = matrix.drop([company], axis=1)"
   ]
  },
  {
   "cell_type": "code",
   "execution_count": 56,
   "metadata": {},
   "outputs": [],
   "source": [
    "for company in ['installment_term_total', 'point_term_total']:\n",
    "    matrix = lag_feature(data=matrix, lags=lags_dist, col=company)\n",
    "    matrix = matrix.drop([company], axis=1)"
   ]
  },
  {
   "cell_type": "code",
   "execution_count": 57,
   "metadata": {},
   "outputs": [],
   "source": [
    "matrix = matrix.drop(['a', 'b', 'c', 'd', 'e', 'f', 'g', 'h'], axis=1)"
   ]
  },
  {
   "cell_type": "code",
   "execution_count": 58,
   "metadata": {},
   "outputs": [],
   "source": [
    "matrix = matrix.drop(['delta_amount_avg'], axis=1)"
   ]
  },
  {
   "cell_type": "code",
   "execution_count": 59,
   "metadata": {},
   "outputs": [],
   "source": [
    "matrix = pd.concat([matrix,pd.get_dummies(matrix['transacted_month'], prefix='transacted_month')],axis=1)"
   ]
  },
  {
   "cell_type": "code",
   "execution_count": 60,
   "metadata": {},
   "outputs": [],
   "source": [
    "matrix.to_csv('matrix_ce_targetencoding.csv', index=False)"
   ]
  },
  {
   "cell_type": "code",
   "execution_count": 61,
   "metadata": {},
   "outputs": [
    {
     "name": "stdout",
     "output_type": "stream",
     "text": [
      "finish\n"
     ]
    }
   ],
   "source": [
    "print('finish')"
   ]
  },
  {
   "cell_type": "code",
   "execution_count": 63,
   "metadata": {},
   "outputs": [
    {
     "data": {
      "text/plain": [
       "Text(0, 0.5, 'Noisy target encoding')"
      ]
     },
     "execution_count": 63,
     "metadata": {},
     "output_type": "execute_result"
    },
    {
     "data": {
      "image/png": "[encoded data removed]",
      "text/plain": [
       "<Figure size 1800x504 with 1 Axes>"
      ]
     },
     "metadata": {
      "needs_background": "light"
     },
     "output_type": "display_data"
    }
   ],
   "source": [
    "import matplotlib.pyplot as plt\n",
    "%matplotlib inline\n",
    "plt.figure(figsize=(25,7))\n",
    "plt.scatter(matrix['region_detail'], matrix['encoding_region_detail'])\n",
    "plt.xlabel(\"ps_car_11_cat category values\")\n",
    "plt.ylabel(\"Noisy target encoding\")"
   ]
  },
  {
   "cell_type": "code",
   "execution_count": null,
   "metadata": {},
   "outputs": [],
   "source": [
    "pd.set_option('max_columns', None)\n",
    "matrix.tail(3)"
   ]
  },
  {
   "cell_type": "code",
   "execution_count": null,
   "metadata": {},
   "outputs": [],
   "source": []
  }
 ],
 "metadata": {
  "kernelspec": {
   "display_name": "Python 3",
   "language": "python",
   "name": "python3"
  },
  "language_info": {
   "codemirror_mode": {
    "name": "ipython",
    "version": 3
   },
   "file_extension": ".py",
   "mimetype": "text/x-python",
   "name": "python",
   "nbconvert_exporter": "python",
   "pygments_lexer": "ipython3",
   "version": "3.5.2"
  }
 },
 "nbformat": 4,
 "nbformat_minor": 2
}
